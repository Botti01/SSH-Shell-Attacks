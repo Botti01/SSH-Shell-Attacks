{
 "cells": [
  {
   "cell_type": "markdown",
   "id": "efd0a1b8-7f8e-4dac-b38c-3a1929ae872e",
   "metadata": {},
   "source": [
    "<center><b><font size=6>Unsupervised learning – clustering<b><center>"
   ]
  },
  {
   "cell_type": "markdown",
   "id": "95c1742c-8a50-472b-a2c8-cd799ca89a1b",
   "metadata": {},
   "source": [
    "This notebook ..."
   ]
  },
  {
   "cell_type": "markdown",
   "id": "94a643ff-3822-4a6b-8548-e62c87090090",
   "metadata": {},
   "source": [
    "0. **Install Dependencies**\n",
    "1. **Determine the Number of Clusters**\n",
    "2. **Tune Other Hyperparameters**\n",
    "3. **Visualize the Clusters**\n",
    "4. **Cluster Analysis**\n",
    "5. **Assess Homogeneity and Intent Reflection**\n",
    "6. **Associate Clusters with Specific Attack Categories**"
   ]
  },
  {
   "cell_type": "markdown",
   "id": "9fee6fc3-ce6e-4062-9b29-5183e438063d",
   "metadata": {},
   "source": [
    "<center><b><font size=5>Install Dependencies<b><center>"
   ]
  },
  {
   "cell_type": "code",
   "execution_count": 4,
   "id": "initial_id",
   "metadata": {
    "tags": []
   },
   "outputs": [
    {
     "name": "stdout",
     "output_type": "stream",
     "text": [
      "\u001b[34mInstalling common packages: pyarrow, pandas\u001b[0m\n",
      "Requirement already satisfied: pyarrow in /opt/conda/lib/python3.7/site-packages (12.0.1)\n",
      "Requirement already satisfied: numpy>=1.16.6 in /opt/conda/lib/python3.7/site-packages (from pyarrow) (1.21.6)\n",
      "\u001b[0m\u001b[32mSuccessfully installed: pyarrow\u001b[0m\n",
      "Requirement already satisfied: pandas in /opt/conda/lib/python3.7/site-packages (1.3.5)\n",
      "Requirement already satisfied: python-dateutil>=2.7.3 in /opt/conda/lib/python3.7/site-packages (from pandas) (2.8.2)\n",
      "Requirement already satisfied: pytz>=2017.3 in /opt/conda/lib/python3.7/site-packages (from pandas) (2022.4)\n",
      "Requirement already satisfied: numpy>=1.17.3 in /opt/conda/lib/python3.7/site-packages (from pandas) (1.21.6)\n",
      "Requirement already satisfied: six>=1.5 in /opt/conda/lib/python3.7/site-packages (from python-dateutil>=2.7.3->pandas) (1.16.0)\n",
      "\u001b[0m\u001b[32mSuccessfully installed: pandas\u001b[0m\n",
      "\u001b[0m\u001b[33mNo dependencies found for section 'Section 3'.\u001b[0m\n",
      "\u001b[0m\u001b[0m"
     ]
    }
   ],
   "source": [
    "!python ../scripts/install_dependencies.py section3"
   ]
  },
  {
   "cell_type": "code",
   "execution_count": null,
   "id": "c33fa04f-a1cd-4b9a-b3c5-15303607d6c8",
   "metadata": {},
   "outputs": [],
   "source": [
    "import os\n",
    "import pandas as pd\n",
    "import matplotlib.pyplot as plt\n",
    "import seaborn as sns\n",
    "import numpy as np\n",
    "from wordcloud import WordCloud\n",
    "\n",
    "# Clustering\n",
    "from sklearn.cluster import KMeans\n",
    "from sklearn.mixture import GaussianMixture\n",
    "from sklearn.metrics import silhouette_score\n",
    "from sklearn.manifold import TSNE\n",
    "from sklearn.model_selection import GridSearchCV"
   ]
  },
  {
   "cell_type": "code",
   "execution_count": 7,
   "id": "a6dcc77b-166e-4d3b-806c-0cebcd945856",
   "metadata": {},
   "outputs": [],
   "source": [
    "import pandas as pd\n",
    "from sklearn.feature_extraction.text import TfidfVectorizer\n"
   ]
  },
  {
   "cell_type": "markdown",
   "id": "6b6c1d92-ad38-49fa-ad6d-8cf7f2132a5c",
   "metadata": {},
   "source": [
    "<center><b><font size=5>Determine the Number of Clusters<b><center>"
   ]
  },
  {
   "cell_type": "markdown",
   "id": "9a10fe48-434a-48f3-94de-091b53860ec8",
   "metadata": {},
   "source": [
    "Identify the optimal number of clusters using evaluation methods like the Elbow Method or Silhouette Analysis.\n",
    "\n",
    "**Steps:**\n",
    "\n",
    "- Evaluate Data for Clustering\n",
    "- Apply Clustering Evaluation Techniques\n",
    "- Decide and Document"
   ]
  },
  {
   "cell_type": "markdown",
   "id": "4fd6d304-2aec-4fc1-8469-bae145201cfc",
   "metadata": {},
   "source": [
    "### Evaluate Data for Clustering\n",
    "\n",
    "- Preprocess the text sessions (e.g., tokenize and vectorize using TF-IDF or word embeddings).\n",
    "- Ensure data is normalized and ready for clustering."
   ]
  },
  {
   "cell_type": "code",
   "execution_count": 8,
   "id": "ed88742a-d12d-4110-821a-a87e4403546f",
   "metadata": {},
   "outputs": [
    {
     "data": {
      "text/html": [
       "<div>\n",
       "<style scoped>\n",
       "    .dataframe tbody tr th:only-of-type {\n",
       "        vertical-align: middle;\n",
       "    }\n",
       "\n",
       "    .dataframe tbody tr th {\n",
       "        vertical-align: top;\n",
       "    }\n",
       "\n",
       "    .dataframe thead th {\n",
       "        text-align: right;\n",
       "    }\n",
       "</style>\n",
       "<table border=\"1\" class=\"dataframe\">\n",
       "  <thead>\n",
       "    <tr style=\"text-align: right;\">\n",
       "      <th></th>\n",
       "      <th>session_id</th>\n",
       "      <th>full_session</th>\n",
       "      <th>first_timestamp</th>\n",
       "      <th>Set_Fingerprint</th>\n",
       "    </tr>\n",
       "  </thead>\n",
       "  <tbody>\n",
       "    <tr>\n",
       "      <th>0</th>\n",
       "      <td>0</td>\n",
       "      <td>[enable, system, sh, sh, cat, proc, mounts, bi...</td>\n",
       "      <td>2019-06-04 09:45:11.151186+00:00</td>\n",
       "      <td>[Defense Evasion, Discovery]</td>\n",
       "    </tr>\n",
       "    <tr>\n",
       "      <th>1</th>\n",
       "      <td>1</td>\n",
       "      <td>[enable, system, sh, sh, cat, proc, mounts, bi...</td>\n",
       "      <td>2019-06-04 09:45:50.396610+00:00</td>\n",
       "      <td>[Defense Evasion, Discovery]</td>\n",
       "    </tr>\n",
       "    <tr>\n",
       "      <th>2</th>\n",
       "      <td>2</td>\n",
       "      <td>[enable, system, sh, sh, cat, proc, mounts, bi...</td>\n",
       "      <td>2019-06-04 09:54:41.863315+00:00</td>\n",
       "      <td>[Defense Evasion, Discovery]</td>\n",
       "    </tr>\n",
       "    <tr>\n",
       "      <th>3</th>\n",
       "      <td>3</td>\n",
       "      <td>[enable, system, sh, sh, cat, proc, mounts, bi...</td>\n",
       "      <td>2019-06-04 10:22:14.623875+00:00</td>\n",
       "      <td>[Defense Evasion, Discovery]</td>\n",
       "    </tr>\n",
       "    <tr>\n",
       "      <th>4</th>\n",
       "      <td>4</td>\n",
       "      <td>[enable, system, sh, sh, cat, proc, mounts, bi...</td>\n",
       "      <td>2019-06-04 10:37:19.725874+00:00</td>\n",
       "      <td>[Defense Evasion, Discovery]</td>\n",
       "    </tr>\n",
       "    <tr>\n",
       "      <th>...</th>\n",
       "      <td>...</td>\n",
       "      <td>...</td>\n",
       "      <td>...</td>\n",
       "      <td>...</td>\n",
       "    </tr>\n",
       "    <tr>\n",
       "      <th>233030</th>\n",
       "      <td>233042</td>\n",
       "      <td>[cat, proc, cp, grep, name, echo, passwd, bash...</td>\n",
       "      <td>2020-02-29 23:47:28.217237+00:00</td>\n",
       "      <td>[Discovery, Persistence]</td>\n",
       "    </tr>\n",
       "    <tr>\n",
       "      <th>233031</th>\n",
       "      <td>233043</td>\n",
       "      <td>[cat, proc, cp, grep, name, echo, passwd, bash...</td>\n",
       "      <td>2020-02-29 23:49:01.009046+00:00</td>\n",
       "      <td>[Discovery, Persistence]</td>\n",
       "    </tr>\n",
       "    <tr>\n",
       "      <th>233032</th>\n",
       "      <td>233044</td>\n",
       "      <td>[cat, proc, cp, grep, name, echo, ss, passwd, ...</td>\n",
       "      <td>2020-02-29 23:56:18.827281+00:00</td>\n",
       "      <td>[Discovery, Persistence]</td>\n",
       "    </tr>\n",
       "    <tr>\n",
       "      <th>233033</th>\n",
       "      <td>233045</td>\n",
       "      <td>[cat, proc, cp, grep, name, echo, passwd, bash...</td>\n",
       "      <td>2020-02-29 23:56:56.263104+00:00</td>\n",
       "      <td>[Discovery, Persistence]</td>\n",
       "    </tr>\n",
       "    <tr>\n",
       "      <th>233034</th>\n",
       "      <td>233046</td>\n",
       "      <td>[cat, proc, cp, grep, name, echo, passwd, bash...</td>\n",
       "      <td>2020-02-29 23:59:22.199490+00:00</td>\n",
       "      <td>[Discovery, Persistence]</td>\n",
       "    </tr>\n",
       "  </tbody>\n",
       "</table>\n",
       "<p>233035 rows × 4 columns</p>\n",
       "</div>"
      ],
      "text/plain": [
       "        session_id                                       full_session  \\\n",
       "0                0  [enable, system, sh, sh, cat, proc, mounts, bi...   \n",
       "1                1  [enable, system, sh, sh, cat, proc, mounts, bi...   \n",
       "2                2  [enable, system, sh, sh, cat, proc, mounts, bi...   \n",
       "3                3  [enable, system, sh, sh, cat, proc, mounts, bi...   \n",
       "4                4  [enable, system, sh, sh, cat, proc, mounts, bi...   \n",
       "...            ...                                                ...   \n",
       "233030      233042  [cat, proc, cp, grep, name, echo, passwd, bash...   \n",
       "233031      233043  [cat, proc, cp, grep, name, echo, passwd, bash...   \n",
       "233032      233044  [cat, proc, cp, grep, name, echo, ss, passwd, ...   \n",
       "233033      233045  [cat, proc, cp, grep, name, echo, passwd, bash...   \n",
       "233034      233046  [cat, proc, cp, grep, name, echo, passwd, bash...   \n",
       "\n",
       "                        first_timestamp               Set_Fingerprint  \n",
       "0      2019-06-04 09:45:11.151186+00:00  [Defense Evasion, Discovery]  \n",
       "1      2019-06-04 09:45:50.396610+00:00  [Defense Evasion, Discovery]  \n",
       "2      2019-06-04 09:54:41.863315+00:00  [Defense Evasion, Discovery]  \n",
       "3      2019-06-04 10:22:14.623875+00:00  [Defense Evasion, Discovery]  \n",
       "4      2019-06-04 10:37:19.725874+00:00  [Defense Evasion, Discovery]  \n",
       "...                                 ...                           ...  \n",
       "233030 2020-02-29 23:47:28.217237+00:00      [Discovery, Persistence]  \n",
       "233031 2020-02-29 23:49:01.009046+00:00      [Discovery, Persistence]  \n",
       "233032 2020-02-29 23:56:18.827281+00:00      [Discovery, Persistence]  \n",
       "233033 2020-02-29 23:56:56.263104+00:00      [Discovery, Persistence]  \n",
       "233034 2020-02-29 23:59:22.199490+00:00      [Discovery, Persistence]  \n",
       "\n",
       "[233035 rows x 4 columns]"
      ]
     },
     "execution_count": 8,
     "metadata": {},
     "output_type": "execute_result"
    }
   ],
   "source": [
    "SSH_Attacks = pd.read_parquet(\"../data/processed/ssh_attacks_decoded.parquet\")\n",
    "SSH_Attacks"
   ]
  },
  {
   "cell_type": "code",
   "execution_count": 10,
   "id": "f134aef5-bace-4eb4-a152-8f469e226d78",
   "metadata": {},
   "outputs": [
    {
     "data": {
      "text/plain": [
       "<233035x66 sparse matrix of type '<class 'numpy.int64'>'\n",
       "\twith 5926698 stored elements in Compressed Sparse Row format>"
      ]
     },
     "execution_count": 10,
     "metadata": {},
     "output_type": "execute_result"
    }
   ],
   "source": [
    "from sklearn.cluster import KMeans\n",
    "from sklearn.metrics import silhouette_score\n",
    "import matplotlib.pyplot as plt\n",
    "\n",
    "# Elbow Method\n",
    "inertia = []\n",
    "silhouette_scores = []\n",
    "range_n_clusters = range(2, 11)\n",
    "\n",
    "for k in range_n_clusters:\n",
    "    kmeans = KMeans(n_clusters=k, random_state=42)\n",
    "    kmeans.fit(X)  # X is the feature matrix from CountVectorizer\n",
    "    inertia.append(kmeans.inertia_)\n",
    "    silhouette_scores.append(silhouette_score(X, kmeans.labels_))\n",
    "\n",
    "# Plot Elbow Method\n",
    "plt.figure(figsize=(10, 5))\n",
    "plt.plot(range_n_clusters, inertia, marker='o')\n",
    "plt.title('Elbow Method')\n",
    "plt.xlabel('Number of Clusters')\n",
    "plt.ylabel('Inertia')\n",
    "plt.grid()\n",
    "plt.show()\n",
    "\n",
    "# Plot Silhouette Scores\n",
    "plt.figure(figsize=(10, 5))\n",
    "plt.plot(range_n_clusters, silhouette_scores, marker='o', color='orange')\n",
    "plt.title('Silhouette Analysis')\n",
    "plt.xlabel('Number of Clusters')\n",
    "plt.ylabel('Silhouette Score')\n",
    "plt.grid()\n",
    "plt.show()\n"
   ]
  },
  {
   "cell_type": "markdown",
   "id": "bb1f33f5-386a-4a9e-9c22-5fd75f897727",
   "metadata": {},
   "source": [
    "### Apply Clustering Evaluation Techniques\n",
    "\n",
    "- Use the Elbow Method:\n",
    "  - Calculate the sum of squared distances (inertia) for a range of cluster numbers.\n",
    "  - Plot inertia vs. the number of clusters to identify the \"elbow\" point.\n",
    "- Use Silhouette Analysis:\n",
    "  - Compute the silhouette score for each potential cluster number.\n",
    "  - Plot silhouette scores to find the number with the highest score."
   ]
  },
  {
   "cell_type": "code",
   "execution_count": null,
   "id": "700268f4-48fd-4a65-812d-9326e677e83c",
   "metadata": {},
   "outputs": [
    {
     "name": "stderr",
     "output_type": "stream",
     "text": [
      "/opt/conda/lib/python3.7/site-packages/sklearn/manifold/_t_sne.py:783: FutureWarning: The default initialization in TSNE will change from 'random' to 'pca' in 1.2.\n",
      "  FutureWarning,\n",
      "/opt/conda/lib/python3.7/site-packages/sklearn/manifold/_t_sne.py:793: FutureWarning: The default learning rate in TSNE will change from 200.0 to 'auto' in 1.2.\n",
      "  FutureWarning,\n"
     ]
    }
   ],
   "source": [
    "from sklearn.cluster import KMeans\n",
    "\n",
    "# K-Means Clustering\n",
    "kmeans = KMeans(n_clusters=5, random_state=42)  # Choose 5 clusters for now\n",
    "kmeans.fit(X)\n",
    "SSH_Attacks['Cluster'] = kmeans.labels_\n",
    "\n",
    "# Visualize with t-SNE\n",
    "from sklearn.manifold import TSNE\n",
    "import matplotlib.pyplot as plt\n",
    "\n",
    "X_tsne = TSNE(n_components=2, random_state=42).fit_transform(X.toarray())\n",
    "plt.scatter(X_tsne[:, 0], X_tsne[:, 1], c=kmeans.labels_, cmap='viridis', s=10)\n",
    "plt.title(\"t-SNE Visualization of K-Means Clusters\")\n",
    "plt.colorbar()\n",
    "plt.show()\n"
   ]
  },
  {
   "cell_type": "markdown",
   "id": "dc6a2d4b-bf57-47b3-8e15-76ccd1e8d7ee",
   "metadata": {},
   "source": [
    "### Decide and Document\n",
    "\n",
    "- Select the optimal number of clusters based on the evaluation.\n",
    "- Visualize and explain the reasoning with supporting metrics and charts."
   ]
  },
  {
   "cell_type": "code",
   "execution_count": null,
   "id": "58ec22c8-c489-48d2-bef1-9329aff5d1f3",
   "metadata": {},
   "outputs": [],
   "source": []
  },
  {
   "cell_type": "markdown",
   "id": "21a3c091-0aa7-4d0d-ba9f-133cf647d1df",
   "metadata": {},
   "source": [
    "<center><b><font size=5>Tune Other Hyperparameters<b><center>"
   ]
  },
  {
   "cell_type": "markdown",
   "id": "a72a0a5a-e195-4341-a3b8-cec9f59b93df",
   "metadata": {},
   "source": [
    "Adjust algorithm-specific parameters to improve cluster quality and coherence.\n",
    "\n",
    "**Steps:**\n",
    "\n",
    "- Identify Relevant Hyperparameters\n",
    "- Experiment with Hyperparameters\n",
    "- Select the Best Configuration"
   ]
  },
  {
   "cell_type": "markdown",
   "id": "30b63f2c-3d22-405e-a324-838469cb8168",
   "metadata": {},
   "source": [
    "### Identify Relevant Hyperparameters\n",
    "\n",
    "- Determine parameters to tune for your chosen algorithms:\n",
    "  - For k-means: `k` (number of clusters), initialization method.\n",
    "  - For DBSCAN: `ε` (neighborhood radius), `min_samples` (minimum points in a neighborhood)."
   ]
  },
  {
   "cell_type": "code",
   "execution_count": null,
   "id": "30454836-a394-42c3-b247-5cbd5cdbdd5c",
   "metadata": {},
   "outputs": [],
   "source": []
  },
  {
   "cell_type": "markdown",
   "id": "9cc01a6e-3c56-4525-8286-7777bc8c86ba",
   "metadata": {},
   "source": [
    "### Experiment with Hyperparameters\n",
    "\n",
    "- Use grid search or iterative trials to test different parameter combinations.\n",
    "- Evaluate cluster quality for each setting using silhouette scores or visual inspection."
   ]
  },
  {
   "cell_type": "code",
   "execution_count": null,
   "id": "1645675f-0b6c-4e50-b507-7cfd36c14d85",
   "metadata": {},
   "outputs": [],
   "source": []
  },
  {
   "cell_type": "markdown",
   "id": "12d6c027-3ff8-4d56-ac57-f1361e14f286",
   "metadata": {},
   "source": [
    "### Select the Best Configuration\n",
    "\n",
    "- Choose the hyperparameters yielding the most coherent clusters.\n",
    "- Document the results with before-and-after comparisons."
   ]
  },
  {
   "cell_type": "code",
   "execution_count": null,
   "id": "7fc0fa6a-df5f-4e38-bc20-9cce4070afc4",
   "metadata": {},
   "outputs": [],
   "source": []
  },
  {
   "cell_type": "markdown",
   "id": "ae7df003-e477-40cb-9811-4d7a42f4aee2",
   "metadata": {},
   "source": [
    "<center><b><font size=5>Visualize the Clusters<b><center>"
   ]
  },
  {
   "cell_type": "markdown",
   "id": "fff34b5e-7f74-496a-bd36-2e22b49d6f7a",
   "metadata": {},
   "source": [
    "Use t-SNE or UMAP to create clear visual representations of the clusters.\n",
    "\n",
    "**Steps:**\n",
    "\n",
    "- Reduce Dimensionality\n",
    "- Create Visual Representations\n",
    "- Analyze and Save"
   ]
  },
  {
   "cell_type": "markdown",
   "id": "ef06ace7-a457-4711-818c-94cc1f3054b0",
   "metadata": {},
   "source": [
    "### Reduce Dimensionality\n",
    "\n",
    "- Apply t-SNE or UMAP to reduce the data to two or three dimensions for visualization.\n",
    "- Normalize or scale data if required by the algorithm."
   ]
  },
  {
   "cell_type": "code",
   "execution_count": null,
   "id": "ca7a9a24-98cb-4e11-94f6-9c1b1def42df",
   "metadata": {},
   "outputs": [],
   "source": [
    "from wordcloud import WordCloud\n",
    "\n",
    "# Generate word clouds for each cluster\n",
    "for cluster_id in sorted(SSH_Attacks['Cluster'].unique()):\n",
    "    cluster_indices = (SSH_Attacks['Cluster'] == cluster_id)\n",
    "    cluster_commands = \" \".join(SSH_Attacks['command_string'][cluster_indices])\n",
    "    \n",
    "    # Word Cloud\n",
    "    wordcloud = WordCloud(width=800, height=400, background_color='white').generate(cluster_commands)\n",
    "    plt.figure(figsize=(10, 5))\n",
    "    plt.imshow(wordcloud, interpolation='bilinear')\n",
    "    plt.axis('off')\n",
    "    plt.title(f'Cluster {cluster_id} Word Cloud')\n",
    "    plt.show()\n"
   ]
  },
  {
   "cell_type": "markdown",
   "id": "e5e38935-5049-4d52-b95c-92b934aa0cb0",
   "metadata": {},
   "source": [
    "### Create Visual Representations\n",
    "\n",
    "- Plot the data points with cluster assignments using a scatter plot:\n",
    "  - Assign distinct colors to each cluster.\n",
    "  - Add legends and labels for clarity."
   ]
  },
  {
   "cell_type": "code",
   "execution_count": null,
   "id": "97ef9a3e-0541-458a-a17c-bcfe486bb829",
   "metadata": {},
   "outputs": [],
   "source": []
  },
  {
   "cell_type": "markdown",
   "id": "dbcbdb18-8066-4415-928b-67e0fc284a72",
   "metadata": {},
   "source": [
    "### Analyze and Save\n",
    "\n",
    "- Highlight overlaps or ambiguous clusters in the visualization.\n",
    "- Save the plots and include them in your report for analysis."
   ]
  },
  {
   "cell_type": "code",
   "execution_count": null,
   "id": "ee8022f4-3b15-4b90-b3e1-7277cb40bc54",
   "metadata": {},
   "outputs": [],
   "source": []
  },
  {
   "cell_type": "markdown",
   "id": "77d440e7-dfed-44da-9d2b-1de76a507968",
   "metadata": {},
   "source": [
    "<center><b><font size=5>Cluster Analysis<b><center>"
   ]
  },
  {
   "cell_type": "markdown",
   "id": "2abb9e4b-4767-4806-88bb-9a9867c274dc",
   "metadata": {},
   "source": [
    "Examine and interpret each cluster’s defining characteristics using word clouds and frequent terms.\n",
    "\n",
    "**Steps:**\n",
    "\n",
    "- Identify Key Characteristics\n",
    "- Describe Cluster Patterns\n",
    "- Document Insights"
   ]
  },
  {
   "cell_type": "markdown",
   "id": "8a5eae6d-d55e-4380-b646-7250e6910a27",
   "metadata": {},
   "source": [
    "### Identify Key Characteristics\n",
    "\n",
    "- Extract the most frequent words or phrases in each cluster.\n",
    "- Generate word clouds to visually represent the distinctive terms for each cluster."
   ]
  },
  {
   "cell_type": "code",
   "execution_count": null,
   "id": "fae994ea-e232-48d4-8197-400c680b2054",
   "metadata": {},
   "outputs": [],
   "source": []
  },
  {
   "cell_type": "markdown",
   "id": "77973e92-e767-4498-be7e-e07c45eb731b",
   "metadata": {},
   "source": [
    "### Describe Cluster Patterns\n",
    "\n",
    "- Analyze relationships or patterns among clusters:\n",
    "  - Are clusters clearly separated or overlapping?\n",
    "  - What types of terms dominate each cluster?"
   ]
  },
  {
   "cell_type": "code",
   "execution_count": null,
   "id": "af4f160e-f004-40ed-b6b8-1d8724fa92db",
   "metadata": {},
   "outputs": [],
   "source": []
  },
  {
   "cell_type": "markdown",
   "id": "7fba55a7-7138-4793-94c1-b6d06e552431",
   "metadata": {},
   "source": [
    "### Document Insights\n",
    "\n",
    "- Summarize findings for each cluster with observations about their unique traits."
   ]
  },
  {
   "cell_type": "code",
   "execution_count": null,
   "id": "ae066681-bf93-4d88-9724-fc4fe8291e39",
   "metadata": {},
   "outputs": [],
   "source": []
  },
  {
   "cell_type": "markdown",
   "id": "13bf0c88-82f4-4211-b058-02b22d223f56",
   "metadata": {},
   "source": [
    "<center><b><font size=5>Assess Homogeneity and Intent Reflection<b><center>"
   ]
  },
  {
   "cell_type": "markdown",
   "id": "7e742ced-3c38-4323-94a1-b3cdfe91c86c",
   "metadata": {},
   "source": [
    "Evaluate how well clusters align with intents and assess their homogeneity.\n",
    "\n",
    "**Steps:**\n",
    "\n",
    "- Match Clusters to Intents\n",
    "- Analyze Homogeneity\n",
    "- Draw Conclusions"
   ]
  },
  {
   "cell_type": "markdown",
   "id": "3fb2ddc3-f7ab-4de9-92e8-ff6240830b12",
   "metadata": {},
   "source": [
    "### Match Clusters to Intents\n",
    "\n",
    "- Compare each cluster to the dataset’s labeled intents (e.g., Persistence, Discovery, etc.).\n",
    "- Use metrics like the homogeneity score or manual inspection to evaluate alignment."
   ]
  },
  {
   "cell_type": "code",
   "execution_count": null,
   "id": "5d241eb0-6d50-4b80-bb00-4bbafcded770",
   "metadata": {},
   "outputs": [],
   "source": []
  },
  {
   "cell_type": "markdown",
   "id": "58820174-75bd-40b2-8b1b-62cc1da913b6",
   "metadata": {},
   "source": [
    "### Analyze Homogeneity\n",
    "\n",
    "- Check if clusters are homogeneous (single intent) or mixed (multiple intents).\n",
    "- Record insights into intent distribution within clusters."
   ]
  },
  {
   "cell_type": "code",
   "execution_count": null,
   "id": "0bc1d552-da55-48c1-90bb-8aee4403d66d",
   "metadata": {},
   "outputs": [],
   "source": []
  },
  {
   "cell_type": "markdown",
   "id": "6daed792-b5ae-4cf3-84aa-676c4c09fdd0",
   "metadata": {},
   "source": [
    "### Draw Conclusions\n",
    "\n",
    "- Discuss the implications of the findings:\n",
    "  - Are clusters meaningful in terms of attack intents?\n",
    "  - What could improve clustering accuracy?"
   ]
  },
  {
   "cell_type": "code",
   "execution_count": null,
   "id": "8492c8de-85d8-4f5d-b117-7ba0c568724d",
   "metadata": {},
   "outputs": [],
   "source": []
  },
  {
   "cell_type": "markdown",
   "id": "50293463-63cc-4cbe-8765-1769bf396458",
   "metadata": {},
   "source": [
    "<center><b><font size=5>Associate Clusters with Specific Attack Categories<b><center>"
   ]
  },
  {
   "cell_type": "markdown",
   "id": "3e448b7b-8e29-4d66-a67d-2e47cd947c86",
   "metadata": {},
   "source": [
    "Analyze selected clusters to identify finer-grained attack categories and unique behaviors.\n",
    "\n",
    "**Steps:**\n",
    "\n",
    "- Select Representative Clusters\n",
    "- Analyze Cluster Contents\n",
    "- Relate to Practical Scenarios"
   ]
  },
  {
   "cell_type": "markdown",
   "id": "39c0accc-07e9-4f54-8996-8a2345ee734c",
   "metadata": {},
   "source": [
    "### Select Representative Clusters\n",
    "\n",
    "- Choose a few clusters that show interesting or unique behavior for deeper analysis."
   ]
  },
  {
   "cell_type": "code",
   "execution_count": null,
   "id": "3b465a0c-95cb-4c2e-89e1-7bad3eaab80a",
   "metadata": {},
   "outputs": [],
   "source": []
  },
  {
   "cell_type": "markdown",
   "id": "378efac0-d21a-4744-ac86-c1691890a577",
   "metadata": {},
   "source": [
    "### Analyze Cluster Contents\n",
    "\n",
    "- Examine the sessions in these clusters:\n",
    "  - Identify patterns or behaviors that distinguish them.\n",
    "  - Determine subcategories of attacks within these clusters."
   ]
  },
  {
   "cell_type": "code",
   "execution_count": null,
   "id": "cfce8bb4-64bf-4536-8446-b0fabd4840dc",
   "metadata": {},
   "outputs": [],
   "source": []
  },
  {
   "cell_type": "markdown",
   "id": "6bdb01f6-f912-4809-8f05-b13292efa26b",
   "metadata": {},
   "source": [
    "### Relate to Practical Scenarios\n",
    "\n",
    "- Link findings to real-world attack methodologies:\n",
    "  - Use graph-based techniques or manual inspection for further refinement.\n",
    "- Present results with examples and interpretations to showcase finer attack categorization."
   ]
  },
  {
   "cell_type": "code",
   "execution_count": null,
   "id": "3b4aea6f-b832-4701-abc7-ae7d88d8f2bc",
   "metadata": {},
   "outputs": [],
   "source": []
  }
 ],
 "metadata": {
  "kernelspec": {
   "display_name": "Python 3 (ipykernel)",
   "language": "python",
   "name": "python3"
  },
  "language_info": {
   "codemirror_mode": {
    "name": "ipython",
    "version": 3
   },
   "file_extension": ".py",
   "mimetype": "text/x-python",
   "name": "python",
   "nbconvert_exporter": "python",
   "pygments_lexer": "ipython3",
   "version": "3.7.12"
  }
 },
 "nbformat": 4,
 "nbformat_minor": 5
}
