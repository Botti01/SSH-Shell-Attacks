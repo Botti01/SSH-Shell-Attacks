{
 "cells": [
  {
   "cell_type": "markdown",
   "id": "efd0a1b8-7f8e-4dac-b38c-3a1929ae872e",
   "metadata": {},
   "source": [
    "<center><b><font size=6>Unsupervised learning – clustering<b><center>"
   ]
  },
  {
   "cell_type": "markdown",
   "id": "95c1742c-8a50-472b-a2c8-cd799ca89a1b",
   "metadata": {},
   "source": [
    "This notebook ..."
   ]
  },
  {
   "cell_type": "markdown",
   "id": "94a643ff-3822-4a6b-8548-e62c87090090",
   "metadata": {},
   "source": [
    "0. **Install Dependencies**\n",
    "1. ** ... **\n",
    "2. ** ... **"
   ]
  },
  {
   "cell_type": "markdown",
   "id": "9fee6fc3-ce6e-4062-9b29-5183e438063d",
   "metadata": {},
   "source": [
    "<center><b><font size=5>Install Dependencies<b><center>"
   ]
  },
  {
   "cell_type": "code",
   "execution_count": 1,
   "id": "initial_id",
   "metadata": {
    "tags": []
   },
   "outputs": [
    {
     "name": "stdout",
     "output_type": "stream",
     "text": [
      "Installing packages for section3: scipy, numpy\n",
      "Requirement already satisfied: scipy in /opt/conda/lib/python3.7/site-packages (1.7.3)\n",
      "Requirement already satisfied: numpy<1.23.0,>=1.16.5 in /opt/conda/lib/python3.7/site-packages (from scipy) (1.21.6)\n",
      "Successfully installed: scipy\n",
      "Requirement already satisfied: numpy in /opt/conda/lib/python3.7/site-packages (1.21.6)\n",
      "Successfully installed: numpy\n"
     ]
    }
   ],
   "source": [
    "!python ../scripts/install_dependencies.py section3"
   ]
  },
  {
   "cell_type": "markdown",
   "id": "6b6c1d92-ad38-49fa-ad6d-8cf7f2132a5c",
   "metadata": {},
   "source": [
    "<center><b><font size=5>Name<b><center>"
   ]
  },
  {
   "cell_type": "markdown",
   "id": "9a10fe48-434a-48f3-94de-091b53860ec8",
   "metadata": {},
   "source": [
    "text"
   ]
  },
  {
   "cell_type": "code",
   "execution_count": null,
   "id": "ed88742a-d12d-4110-821a-a87e4403546f",
   "metadata": {},
   "outputs": [],
   "source": []
  }
 ],
 "metadata": {
  "kernelspec": {
   "display_name": "Python 3 (ipykernel)",
   "language": "python",
   "name": "python3"
  },
  "language_info": {
   "codemirror_mode": {
    "name": "ipython",
    "version": 3
   },
   "file_extension": ".py",
   "mimetype": "text/x-python",
   "name": "python",
   "nbconvert_exporter": "python",
   "pygments_lexer": "ipython3",
   "version": "3.7.12"
  }
 },
 "nbformat": 4,
 "nbformat_minor": 5
}
