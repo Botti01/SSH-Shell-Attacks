{
 "cells": [
  {
   "cell_type": "markdown",
   "id": "efd0a1b8-7f8e-4dac-b38c-3a1929ae872e",
   "metadata": {},
   "source": [
    "<center><b><font size=6>Unsupervised learning – clustering<b><center>"
   ]
  },
  {
   "cell_type": "markdown",
   "id": "95c1742c-8a50-472b-a2c8-cd799ca89a1b",
   "metadata": {},
   "source": [
    "This notebook ..."
   ]
  },
  {
   "cell_type": "markdown",
   "id": "94a643ff-3822-4a6b-8548-e62c87090090",
   "metadata": {},
   "source": [
    "0. **Install Dependencies**\n",
    "1. **Determine the Number of Clusters**\n",
    "2. **Tune Other Hyperparameters**\n",
    "3. **Visualize the Clusters**\n",
    "4. **Cluster Analysis**\n",
    "5. **Assess Homogeneity and Intent Reflection**\n",
    "6. **Associate Clusters with Specific Attack Categories**"
   ]
  },
  {
   "cell_type": "markdown",
   "id": "9fee6fc3-ce6e-4062-9b29-5183e438063d",
   "metadata": {},
   "source": [
    "<center><b><font size=5>Install Dependencies<b><center>"
   ]
  },
  {
   "cell_type": "code",
   "execution_count": 3,
   "id": "initial_id",
   "metadata": {
    "tags": []
   },
   "outputs": [
    {
     "name": "stdout",
     "output_type": "stream",
     "text": [
      "shell-init: error retrieving current directory: getcwd: cannot access parent directories: No such file or directory\n",
      "python: can't open file '../scripts/install_dependencies.py': [Errno 2] No such file or directory\n"
     ]
    }
   ],
   "source": [
    "!python ../scripts/install_dependencies.py section3"
   ]
  },
  {
   "cell_type": "code",
   "execution_count": 4,
   "id": "c33fa04f-a1cd-4b9a-b3c5-15303607d6c8",
   "metadata": {},
   "outputs": [],
   "source": [
    "import os\n",
    "import pandas as pd\n",
    "import matplotlib.pyplot as plt\n",
    "import seaborn as sns\n",
    "import numpy as np\n",
    "from wordcloud import WordCloud\n",
    "\n",
    "# Clustering\n",
    "from sklearn.cluster import KMeans\n",
    "from sklearn.mixture import GaussianMixture\n",
    "from sklearn.metrics import silhouette_score\n",
    "from sklearn.manifold import TSNE\n",
    "from sklearn.model_selection import GridSearchCV"
   ]
  },
  {
   "cell_type": "markdown",
   "id": "6b6c1d92-ad38-49fa-ad6d-8cf7f2132a5c",
   "metadata": {},
   "source": [
    "<center><b><font size=5>Determine the Number of Clusters<b><center>"
   ]
  },
  {
   "cell_type": "markdown",
   "id": "9a10fe48-434a-48f3-94de-091b53860ec8",
   "metadata": {},
   "source": [
    "Identify the optimal number of clusters using evaluation methods like the Elbow Method or Silhouette Analysis.\n",
    "\n",
    "**Steps:**\n",
    "\n",
    "- Evaluate Data for Clustering\n",
    "- Apply Clustering Evaluation Techniques\n",
    "- Decide and Document"
   ]
  },
  {
   "cell_type": "markdown",
   "id": "4fd6d304-2aec-4fc1-8469-bae145201cfc",
   "metadata": {},
   "source": [
    "### Evaluate Data for Clustering\n",
    "\n",
    "- Preprocess the text sessions (e.g., tokenize and vectorize using TF-IDF or word embeddings).\n",
    "- Ensure data is normalized and ready for clustering."
   ]
  },
  {
   "cell_type": "code",
   "execution_count": 5,
   "id": "ed88742a-d12d-4110-821a-a87e4403546f",
   "metadata": {},
   "outputs": [
    {
     "data": {
      "text/plain": [
       "<bound method NDFrame.describe of                                           Set_Fingerprint    enable    system  \\\n",
       "45459                            [Discovery, Persistence]  0.136394  0.068782   \n",
       "73366                            [Discovery, Persistence]  0.136394  0.068782   \n",
       "142247                           [Discovery, Persistence]  0.136394  0.068782   \n",
       "207369                           [Discovery, Persistence]  0.136394  0.068782   \n",
       "187475                           [Discovery, Persistence]  0.136394  0.068782   \n",
       "...                                                   ...       ...       ...   \n",
       "171360                                           [Impact]  0.000000  0.000000   \n",
       "166018  [Discovery, Persistence, Defense Evasion, Harm...  0.000000  0.105743   \n",
       "132486  [Discovery, Persistence, Defense Evasion, Impa...  0.000000  0.135173   \n",
       "171506        [Discovery, Impact, Execution, Persistence]  0.000000  0.141465   \n",
       "232782        [Discovery, Impact, Execution, Persistence]  0.000000  0.109716   \n",
       "\n",
       "         sh  cat  proc    mounts       bin  busybox   cd  ...       top  \\\n",
       "45459   0.0  0.0   0.0  0.252226  0.000000      0.0  0.0  ...  0.000000   \n",
       "73366   0.0  0.0   0.0  0.252226  0.000000      0.0  0.0  ...  0.000000   \n",
       "142247  0.0  0.0   0.0  0.252226  0.000000      0.0  0.0  ...  0.000000   \n",
       "207369  0.0  0.0   0.0  0.252226  0.000000      0.0  0.0  ...  0.000000   \n",
       "187475  0.0  0.0   0.0  0.252226  0.000000      0.0  0.0  ...  0.000000   \n",
       "...     ...  ...   ...       ...       ...      ...  ...  ...       ...   \n",
       "171360  0.0  0.0   0.0  0.000000  0.000000      0.0  0.0  ...  0.000000   \n",
       "166018  0.0  0.0   0.0  0.048471  0.336859      0.0  0.0  ...  0.094006   \n",
       "132486  0.0  0.0   0.0  0.030980  0.215306      0.0  0.0  ...  0.060085   \n",
       "171506  0.0  0.0   0.0  0.032422  0.112664      0.0  0.0  ...  0.000000   \n",
       "232782  0.0  0.0   0.0  0.050292  0.480583      0.0  0.0  ...  0.048769   \n",
       "\n",
       "        sleep       tar    passwd   nc     mkdir  unix        mv     nohup  \\\n",
       "45459     0.0  0.340026  0.068061  0.0  0.204608   0.0  0.477045  0.000000   \n",
       "73366     0.0  0.340026  0.068061  0.0  0.204608   0.0  0.477045  0.000000   \n",
       "142247    0.0  0.340026  0.068061  0.0  0.204608   0.0  0.477045  0.000000   \n",
       "207369    0.0  0.340026  0.068061  0.0  0.204608   0.0  0.477045  0.000000   \n",
       "187475    0.0  0.340026  0.068061  0.0  0.204608   0.0  0.477045  0.000000   \n",
       "...       ...       ...       ...  ...       ...   ...       ...       ...   \n",
       "171360    0.0  0.000000  0.000000  0.0  0.000000   0.0  0.000000  0.000000   \n",
       "166018    0.0  0.156824  0.000000  0.0  0.000000   0.0  0.419085  0.509673   \n",
       "132486    0.0  0.133647  0.000000  0.0  0.000000   0.0  0.502240  0.325761   \n",
       "171506    0.0  0.174835  0.000000  0.0  0.000000   0.0  0.560657  0.000000   \n",
       "232782    0.0  0.162716  0.000000  0.0  0.000000   0.0  0.434830  0.088137   \n",
       "\n",
       "            tsm  \n",
       "45459   0.06821  \n",
       "73366   0.06821  \n",
       "142247  0.06821  \n",
       "207369  0.06821  \n",
       "187475  0.06821  \n",
       "...         ...  \n",
       "171360  0.00000  \n",
       "166018  0.00000  \n",
       "132486  0.00000  \n",
       "171506  0.00000  \n",
       "232782  0.00000  \n",
       "\n",
       "[23325 rows x 46 columns]>"
      ]
     },
     "execution_count": 5,
     "metadata": {},
     "output_type": "execute_result"
    }
   ],
   "source": [
    "\n",
    "df_features_tfidf_sampled = pd.read_parquet(\"../data/processed/TFIDF_DATASETS/ssh_attacks_tfidf_sampled.parquet\")\n",
    "\n",
    "\n",
    "X = df_features_tfidf_sampled.drop(columns=[\"Set_Fingerprint\"])\n",
    "df_features_tfidf_sampled.describe"
   ]
  },
  {
   "cell_type": "markdown",
   "id": "bb1f33f5-386a-4a9e-9c22-5fd75f897727",
   "metadata": {},
   "source": [
    "### Apply Clustering Evaluation Techniques\n",
    "\n",
    "- Use the Elbow Method:\n",
    "  - Calculate the sum of squared distances (inertia) for a range of cluster numbers.\n",
    "  - Plot inertia vs. the number of clusters to identify the \"elbow\" point.\n",
    "- Use Silhouette Analysis:\n",
    "  - Compute the silhouette score for each potential cluster number.\n",
    "  - Plot silhouette scores to find the number with the highest score."
   ]
  },
  {
   "cell_type": "markdown",
   "id": "dc6a2d4b-bf57-47b3-8e15-76ccd1e8d7ee",
   "metadata": {},
   "source": [
    "### Decide and Document\n",
    "\n",
    "- Select the optimal number of clusters based on the evaluation.\n",
    "- Visualize and explain the reasoning with supporting metrics and charts."
   ]
  },
  {
   "cell_type": "code",
   "execution_count": 6,
   "id": "58ec22c8-c489-48d2-bef1-9329aff5d1f3",
   "metadata": {},
   "outputs": [],
   "source": [
    "# Step 1: Elbow Method\n",
    "n_cluster_list=[]\n",
    "inertia_list=[]\n",
    "silhouette_list = []\n",
    "ri_list = []\n",
    "ari_list = []\n",
    "\n",
    "for n_clusters in range(3, 17):\n",
    "    kmeans_new = KMeans(n_clusters=n_clusters, n_init=10, random_state=42)\n",
    "    cl_labels = kmeans_new.fit_predict(X)\n",
    "        \n",
    "    silhouette_value= silhouette_score(X, kmeans_new.labels_)\n",
    "    silhouette_list.append(silhouette_value)\n",
    "\n",
    "    inertia_list.append(kmeans_new.inertia_)\n",
    "    n_cluster_list.append(n_clusters)"
   ]
  },
  {
   "cell_type": "code",
   "execution_count": 7,
   "id": "06c5711e-99d0-4e28-a440-aa59d4f2ff2f",
   "metadata": {},
   "outputs": [
    {
     "data": {
      "image/png": "[encoded data removed]",
      "text/plain": [
       "<Figure size 500x350 with 1 Axes>"
      ]
     },
     "metadata": {},
     "output_type": "display_data"
    },
    {
     "data": {
      "image/png": "[encoded data removed]",
      "text/plain": [
       "<Figure size 500x350 with 1 Axes>"
      ]
     },
     "metadata": {},
     "output_type": "display_data"
    },
    {
     "name": "stdout",
     "output_type": "stream",
     "text": [
      "Size of each cluster:  [ 8399 10365  1787    61   946    34    92   388   272    40    32   567\n",
      "    23    43   229    47]\n"
     ]
    }
   ],
   "source": [
    "# Plot k-Means clustering error \n",
    "# Set up Seaborn style\n",
    "sns.set_theme(style=\"darkgrid\")\n",
    "\n",
    "plt.figure(figsize=(5, 3.5))\n",
    "plt.plot(n_cluster_list, inertia_list, marker='o', markersize=5, color='blue')\n",
    "plt.xlabel('Number of clusters')\n",
    "plt.ylabel('k-Means clustering error')\n",
    "plt.title('Elbow Method')\n",
    "plt.show()\n",
    "\n",
    "plt.figure(figsize=(5, 3.5))\n",
    "plt.plot(n_cluster_list, silhouette_list, marker='o', markersize=5, color='blue')\n",
    "plt.xlabel('Number of clusters')\n",
    "plt.ylabel('Silohuette Score')\n",
    "plt.title('')\n",
    "plt.show()\n",
    "\n",
    "(unique, counts) = np.unique(kmeans_new.labels_, return_counts=True)\n",
    "print(\"Size of each cluster: \", counts)"
   ]
  },
  {
   "cell_type": "code",
   "execution_count": 14,
   "id": "5da07884-fb8e-4150-804a-38af06180e5d",
   "metadata": {},
   "outputs": [],
   "source": [
    "n_cluster_list=[]\n",
    "silhouette_list_gmm= []\n",
    "log_l_list=[]\n",
    "\n",
    "for n_clusters in range(3, 17):\n",
    "    gmm = GaussianMixture(n_components = n_clusters, random_state=42)\n",
    "    gmm_label = gmm.fit_predict(X)\n",
    "      \n",
    "    silhouette_value = silhouette_score(X, gmm_label)\n",
    "    silhouette_list_gmm.append(silhouette_value)\n",
    "    \n",
    "    log_l_list.append(gmm.score(X))\n",
    "    n_cluster_list.append(n_clusters)"
   ]
  },
  {
   "cell_type": "code",
   "execution_count": 15,
   "id": "486b7355-83de-4703-bb20-3742f6abb160",
   "metadata": {},
   "outputs": [
    {
     "data": {
      "image/png": "[encoded data removed]",
      "text/plain": [
       "<Figure size 500x350 with 1 Axes>"
      ]
     },
     "metadata": {},
     "output_type": "display_data"
    },
    {
     "data": {
      "image/png": "[encoded data removed]",
      "text/plain": [
       "<Figure size 500x350 with 1 Axes>"
      ]
     },
     "metadata": {},
     "output_type": "display_data"
    },
    {
     "name": "stdout",
     "output_type": "stream",
     "text": [
      "Effetive size of each cluster:  [0.36008574 0.43494105 0.07661308 0.00261522 0.04021436 0.00145766\n",
      " 0.00394427 0.01659164 0.01642015 0.0017149  0.00137192 0.02430868\n",
      " 0.00098607 0.00184352 0.01487674 0.00201501]\n"
     ]
    }
   ],
   "source": [
    "# Set up Seaborn style\n",
    "sns.set_theme(style=\"darkgrid\")\n",
    "\n",
    "# Plot GMM total log-likelihood score\n",
    "plt.figure(figsize=(5, 3.5))\n",
    "plt.plot(n_cluster_list, log_l_list, marker='o', markersize=5, color='blue')\n",
    "plt.xlabel('Number of clusters')\n",
    "plt.ylabel('GMM total log-likelihood score')\n",
    "plt.title('Log-Likelihood Score')\n",
    "plt.show()\n",
    "\n",
    "plt.figure(figsize=(5, 3.5))\n",
    "plt.plot(n_cluster_list, silhouette_list_gmm, marker='o', markersize=5, color='blue')\n",
    "plt.xlabel('Number of clusters')\n",
    "plt.ylabel('Silohuette Score')\n",
    "plt.title('')\n",
    "plt.show()\n",
    "\n",
    "# report effective size\n",
    "print(\"Effetive size of each cluster: \", gmm.weights_)"
   ]
  },
  {
   "cell_type": "markdown",
   "id": "b8f94f50-49bb-4224-9b60-733853003ec4",
   "metadata": {},
   "source": [
    "<center><b><font size=5>Tune Other Hyperparameters<b><center>"
   ]
  },
  {
   "cell_type": "markdown",
   "id": "1d156acc-78c5-491a-b1c3-c06083306ddc",
   "metadata": {},
   "source": [
    "## KMEANS"
   ]
  },
  {
   "cell_type": "code",
   "execution_count": 19,
   "id": "078cc4f4-7cbd-43af-b5fd-4c81381cf358",
   "metadata": {},
   "outputs": [
    {
     "name": "stdout",
     "output_type": "stream",
     "text": [
      "Best parameters: {'init': 'k-means++', 'max_iter': 150, 'n_init': 16}\n"
     ]
    }
   ],
   "source": [
    "param_grid_kmeans = {\n",
    "    'init': ['k-means++', 'random'],\n",
    "    'n_init':  list(range(2, 21, 2)),\n",
    "    'max_iter':  list(range(50, 501, 50)),\n",
    "}\n",
    "\n",
    "# Create KMeans object\n",
    "kmeans = KMeans(n_clusters=10, random_state=42)\n",
    "\n",
    "# Create RandomizedSearchCV object\n",
    "grid_search_kmeans = GridSearchCV(kmeans, param_grid = param_grid_kmeans, cv=5)\n",
    "\n",
    "# Fit the randomized search to your data\n",
    "grid_search_kmeans.fit(X)  # X is your dataset\n",
    "\n",
    "# Get the best parameters\n",
    "best_params_kmenas = grid_search_kmeans.best_params_\n",
    "print(\"Best parameters:\", best_params_kmenas)"
   ]
  },
  {
   "cell_type": "code",
   "execution_count": 20,
   "id": "9936757b-226d-4f94-8dd4-1acd75920663",
   "metadata": {},
   "outputs": [
    {
     "name": "stdout",
     "output_type": "stream",
     "text": [
      "Silhouette:  0.8930553254823349\n",
      "Inertia:  297.5640267859936\n"
     ]
    }
   ],
   "source": [
    "kmeans_tuned = KMeans(n_clusters=10, init=best_params_kmenas['init'], n_init=best_params_kmenas['n_init'], max_iter=best_params_kmenas['max_iter'], random_state=42)\n",
    "cl_labels_tuned = kmeans_tuned.fit_predict(X)\n",
    "    \n",
    "silhouette_value= silhouette_score(X, kmeans_tuned.labels_)\n",
    "\n",
    "inertia = (kmeans_tuned.inertia_)\n",
    "print(\"Silhouette: \", silhouette_value)\n",
    "print(\"Inertia: \", inertia)"
   ]
  },
  {
   "cell_type": "markdown",
   "id": "55773532-8ec0-4537-9275-cad78d886bfa",
   "metadata": {},
   "source": [
    "## GMM"
   ]
  },
  {
   "cell_type": "code",
   "execution_count": null,
   "id": "0bd88793-6a86-418b-99b8-9961db431dfb",
   "metadata": {},
   "outputs": [],
   "source": [
    "def silhouette_scorer(gmm, X):\n",
    "    labels = gmm.fit_predict(X)\n",
    "    return silhouette_score(X, labels)\n",
    "\n",
    "param_grid_gmm = {\n",
    "    'init_params': ['kmeans'], \n",
    "    'covariance_type': ['full', 'spherical'], # 'tied', 'diag' have been deleted because never selected\n",
    "    'tol': [1e-3, 1e-4, 1e-5], \n",
    "    'max_iter': list(range(50, 300, 50)),\n",
    "}\n",
    "\n",
    "# Create GaussianMixture object\n",
    "gmm = GaussianMixture(n_components=10,random_state=42)\n",
    "\n",
    "# Create GridSearchCV object\n",
    "grid_search_gmm = GridSearchCV(gmm, param_grid_gmm, cv=5, scoring = silhouette_scorer)\n",
    "\n",
    "# Fit the grid search to your data\n",
    "grid_search_gmm.fit(X)  # X is your dataset\n",
    "\n",
    "# Get the best parameters\n",
    "best_params_gmm = grid_search_gmm.best_params_\n",
    "print(\"Best parameters:\", best_params_gmm)"
   ]
  },
  {
   "cell_type": "code",
   "execution_count": null,
   "id": "9c9cc8a6-2e89-4cb4-9428-a4af6409dc05",
   "metadata": {},
   "outputs": [],
   "source": [
    "gmm_tuned = GaussianMixture(n_components = 10, random_state=42, init_params=best_params_gmm['init_params'], covariance_type=best_params_gmm['covariance_type'], max_iter=best_params_gmm['max_iter'], tol=best_params_gmm['tol'])\n",
    "gmm_label_tuned = gmm_tuned.fit_predict(X)\n",
    "    \n",
    "silhouette_value = silhouette_score(X, gmm_label_tuned)\n",
    "\n",
    "log_l_tuned = (gmm_tuned.score(X))\n",
    "\n",
    "print(\"Silhouette: \", silhouette_value)\n",
    "print(\"Log-l: \", log_l_tuned)"
   ]
  },
  {
   "cell_type": "markdown",
   "id": "ddce7e6e-4995-4d2e-ac67-6335b883e8e5",
   "metadata": {},
   "source": [
    "<center><b><font size=5>Visualize the Clusters: t-SNE<b><center>"
   ]
  },
  {
   "cell_type": "code",
   "execution_count": null,
   "id": "30454836-a394-42c3-b247-5cbd5cdbdd5c",
   "metadata": {},
   "outputs": [],
   "source": [
    "#LET'S APPLY THE t-SNE TO THE DATASET, TO REDUCE THE NUMBER OF COMPONENTS\n",
    "\n",
    "originalDF = pd.DataFrame(X)\n",
    "\n",
    "tsne = TSNE(n_components=2, random_state=42).fit_transform(originalDF.values)\n",
    "\n",
    "df_tsne = pd.DataFrame(tsne)\n",
    "df_tsne\n",
    "\n",
    "#NOW WE HAVE THE 2 COMPONENTS and WE CAN APPLY IT TO BOTH THE ALGORITHM"
   ]
  },
  {
   "cell_type": "markdown",
   "id": "4786b6af-30ae-41c5-aa72-a10c0bfecda8",
   "metadata": {},
   "source": [
    "## KMEANS"
   ]
  },
  {
   "cell_type": "code",
   "execution_count": null,
   "id": "1645675f-0b6c-4e50-b507-7cfd36c14d85",
   "metadata": {},
   "outputs": [],
   "source": [
    "labels_kmeans_tuned = kmeans_tuned.labels_\n",
    "\n",
    "df_tsne_kmeans = pd.DataFrame(df_tsne)\n",
    "df_tsne_kmeans[\"cluster\"] = labels_kmeans_tuned\n",
    "df_tsne_kmeans.columns = [\"x1\", \"x2\", \"cluster\"]\n",
    "\n",
    "\n",
    "fig, ax = plt.subplots(figsize=(15,8))\n",
    "#custom color palette, to distinguish beter the clusters\n",
    "cluster_colors = [\"red\", \"blue\", \"green\", \"purple\", \"orange\", \"yellow\", \"brown\", \"teal\", \"black\", \"grey\"]\n",
    "\n",
    "sns.scatterplot(data=df_tsne_kmeans, x='x1', y='x2', hue='cluster',  palette=cluster_colors, legend=\"full\")\n",
    "ax.set_title('TSNE Cluster Visualization using K-Means with K=10')\n",
    "df_tsne_kmeans"
   ]
  },
  {
   "cell_type": "markdown",
   "id": "7ae5ad1d-db75-432a-b411-ab5caf14e099",
   "metadata": {},
   "source": [
    "## GMM"
   ]
  },
  {
   "cell_type": "code",
   "execution_count": null,
   "id": "2dab99ac-ab0c-499b-8fe7-c131d173571f",
   "metadata": {},
   "outputs": [],
   "source": [
    "labels_gmm_tuned = gmm_tuned.predict(X)\n",
    "\n",
    "\n",
    "df_tsne_gmm = pd.DataFrame(df_tsne)\n",
    "df_tsne_gmm[\"cluster\"] = labels_gmm_tuned\n",
    "df_tsne_gmm.columns = [\"x1\", \"x2\", \"cluster\"]\n",
    "\n",
    "\n",
    "fig, ax = plt.subplots(figsize=(15,8))\n",
    "#custom color palette, to distinguish beter the clusters\n",
    "cluster_colors = [\"red\", \"blue\", \"green\", \"purple\", \"orange\", \"yellow\", \"brown\", \"teal\", \"black\", \"grey\"]\n",
    "\n",
    "sns.scatterplot(data=df_tsne_gmm, x='x1', y='x2', hue='cluster',  palette=cluster_colors, legend=\"full\")\n",
    "ax.set_title('TSNE Cluster Visualization using GMM with K=10')\n",
    "df_tsne_gmm"
   ]
  },
  {
   "cell_type": "markdown",
   "id": "fff34b5e-7f74-496a-bd36-2e22b49d6f7a",
   "metadata": {},
   "source": [
    "Use t-SNE or UMAP to create clear visual representations of the clusters.\n",
    "\n",
    "**Steps:**\n",
    "\n",
    "- Reduce Dimensionality\n",
    "- Create Visual Representations\n",
    "- Analyze and Save"
   ]
  },
  {
   "cell_type": "markdown",
   "id": "ef06ace7-a457-4711-818c-94cc1f3054b0",
   "metadata": {},
   "source": [
    "### Reduce Dimensionality\n",
    "\n",
    "- Apply t-SNE or UMAP to reduce the data to two or three dimensions for visualization.\n",
    "- Normalize or scale data if required by the algorithm."
   ]
  },
  {
   "cell_type": "markdown",
   "id": "e5e38935-5049-4d52-b95c-92b934aa0cb0",
   "metadata": {},
   "source": [
    "### Create Visual Representations\n",
    "\n",
    "- Plot the data points with cluster assignments using a scatter plot:\n",
    "  - Assign distinct colors to each cluster.\n",
    "  - Add legends and labels for clarity."
   ]
  },
  {
   "cell_type": "code",
   "execution_count": null,
   "id": "97ef9a3e-0541-458a-a17c-bcfe486bb829",
   "metadata": {},
   "outputs": [],
   "source": []
  },
  {
   "cell_type": "markdown",
   "id": "dbcbdb18-8066-4415-928b-67e0fc284a72",
   "metadata": {},
   "source": [
    "### Analyze and Save\n",
    "\n",
    "- Highlight overlaps or ambiguous clusters in the visualization.\n",
    "- Save the plots and include them in your report for analysis."
   ]
  },
  {
   "cell_type": "code",
   "execution_count": null,
   "id": "ee8022f4-3b15-4b90-b3e1-7277cb40bc54",
   "metadata": {},
   "outputs": [],
   "source": []
  },
  {
   "cell_type": "markdown",
   "id": "77d440e7-dfed-44da-9d2b-1de76a507968",
   "metadata": {},
   "source": [
    "<center><b><font size=5>Cluster Analysis<b><center>"
   ]
  },
  {
   "cell_type": "markdown",
   "id": "2abb9e4b-4767-4806-88bb-9a9867c274dc",
   "metadata": {},
   "source": [
    "Examine and interpret each cluster’s defining characteristics using word clouds and frequent terms.\n",
    "\n",
    "**Steps:**\n",
    "\n",
    "- Identify Key Characteristics\n",
    "- Describe Cluster Patterns\n",
    "- Document Insights"
   ]
  },
  {
   "cell_type": "markdown",
   "id": "8a5eae6d-d55e-4380-b646-7250e6910a27",
   "metadata": {},
   "source": [
    "### Identify Key Characteristics\n",
    "\n",
    "- Extract the most frequent words or phrases in each cluster.\n",
    "- Generate word clouds to visually represent the distinctive terms for each cluster."
   ]
  },
  {
   "cell_type": "code",
   "execution_count": null,
   "id": "fae994ea-e232-48d4-8197-400c680b2054",
   "metadata": {},
   "outputs": [],
   "source": []
  },
  {
   "cell_type": "markdown",
   "id": "77973e92-e767-4498-be7e-e07c45eb731b",
   "metadata": {},
   "source": [
    "### Describe Cluster Patterns\n",
    "\n",
    "- Analyze relationships or patterns among clusters:\n",
    "  - Are clusters clearly separated or overlapping?\n",
    "  - What types of terms dominate each cluster?"
   ]
  },
  {
   "cell_type": "code",
   "execution_count": null,
   "id": "af4f160e-f004-40ed-b6b8-1d8724fa92db",
   "metadata": {},
   "outputs": [],
   "source": []
  },
  {
   "cell_type": "markdown",
   "id": "7fba55a7-7138-4793-94c1-b6d06e552431",
   "metadata": {},
   "source": [
    "### Document Insights\n",
    "\n",
    "- Summarize findings for each cluster with observations about their unique traits."
   ]
  },
  {
   "cell_type": "code",
   "execution_count": null,
   "id": "ae066681-bf93-4d88-9724-fc4fe8291e39",
   "metadata": {},
   "outputs": [],
   "source": []
  },
  {
   "cell_type": "markdown",
   "id": "13bf0c88-82f4-4211-b058-02b22d223f56",
   "metadata": {},
   "source": [
    "<center><b><font size=5>Assess Homogeneity and Intent Reflection<b><center>"
   ]
  },
  {
   "cell_type": "markdown",
   "id": "7e742ced-3c38-4323-94a1-b3cdfe91c86c",
   "metadata": {},
   "source": [
    "Evaluate how well clusters align with intents and assess their homogeneity.\n",
    "\n",
    "**Steps:**\n",
    "\n",
    "- Match Clusters to Intents\n",
    "- Analyze Homogeneity\n",
    "- Draw Conclusions"
   ]
  },
  {
   "cell_type": "markdown",
   "id": "3fb2ddc3-f7ab-4de9-92e8-ff6240830b12",
   "metadata": {},
   "source": [
    "### Match Clusters to Intents\n",
    "\n",
    "- Compare each cluster to the dataset’s labeled intents (e.g., Persistence, Discovery, etc.).\n",
    "- Use metrics like the homogeneity score or manual inspection to evaluate alignment."
   ]
  },
  {
   "cell_type": "code",
   "execution_count": null,
   "id": "5d241eb0-6d50-4b80-bb00-4bbafcded770",
   "metadata": {},
   "outputs": [],
   "source": []
  },
  {
   "cell_type": "markdown",
   "id": "58820174-75bd-40b2-8b1b-62cc1da913b6",
   "metadata": {},
   "source": [
    "### Analyze Homogeneity\n",
    "\n",
    "- Check if clusters are homogeneous (single intent) or mixed (multiple intents).\n",
    "- Record insights into intent distribution within clusters."
   ]
  },
  {
   "cell_type": "code",
   "execution_count": null,
   "id": "0bc1d552-da55-48c1-90bb-8aee4403d66d",
   "metadata": {},
   "outputs": [],
   "source": []
  },
  {
   "cell_type": "markdown",
   "id": "6daed792-b5ae-4cf3-84aa-676c4c09fdd0",
   "metadata": {},
   "source": [
    "### Draw Conclusions\n",
    "\n",
    "- Discuss the implications of the findings:\n",
    "  - Are clusters meaningful in terms of attack intents?\n",
    "  - What could improve clustering accuracy?"
   ]
  },
  {
   "cell_type": "code",
   "execution_count": null,
   "id": "8492c8de-85d8-4f5d-b117-7ba0c568724d",
   "metadata": {},
   "outputs": [],
   "source": []
  },
  {
   "cell_type": "markdown",
   "id": "50293463-63cc-4cbe-8765-1769bf396458",
   "metadata": {},
   "source": [
    "<center><b><font size=5>Associate Clusters with Specific Attack Categories<b><center>"
   ]
  },
  {
   "cell_type": "markdown",
   "id": "3e448b7b-8e29-4d66-a67d-2e47cd947c86",
   "metadata": {},
   "source": [
    "Analyze selected clusters to identify finer-grained attack categories and unique behaviors.\n",
    "\n",
    "**Steps:**\n",
    "\n",
    "- Select Representative Clusters\n",
    "- Analyze Cluster Contents\n",
    "- Relate to Practical Scenarios"
   ]
  },
  {
   "cell_type": "markdown",
   "id": "39c0accc-07e9-4f54-8996-8a2345ee734c",
   "metadata": {},
   "source": [
    "### Select Representative Clusters\n",
    "\n",
    "- Choose a few clusters that show interesting or unique behavior for deeper analysis."
   ]
  },
  {
   "cell_type": "code",
   "execution_count": null,
   "id": "3b465a0c-95cb-4c2e-89e1-7bad3eaab80a",
   "metadata": {},
   "outputs": [],
   "source": []
  },
  {
   "cell_type": "markdown",
   "id": "378efac0-d21a-4744-ac86-c1691890a577",
   "metadata": {},
   "source": [
    "### Analyze Cluster Contents\n",
    "\n",
    "- Examine the sessions in these clusters:\n",
    "  - Identify patterns or behaviors that distinguish them.\n",
    "  - Determine subcategories of attacks within these clusters."
   ]
  },
  {
   "cell_type": "code",
   "execution_count": null,
   "id": "cfce8bb4-64bf-4536-8446-b0fabd4840dc",
   "metadata": {},
   "outputs": [],
   "source": []
  },
  {
   "cell_type": "markdown",
   "id": "6bdb01f6-f912-4809-8f05-b13292efa26b",
   "metadata": {},
   "source": [
    "### Relate to Practical Scenarios\n",
    "\n",
    "- Link findings to real-world attack methodologies:\n",
    "  - Use graph-based techniques or manual inspection for further refinement.\n",
    "- Present results with examples and interpretations to showcase finer attack categorization."
   ]
  },
  {
   "cell_type": "code",
   "execution_count": null,
   "id": "3b4aea6f-b832-4701-abc7-ae7d88d8f2bc",
   "metadata": {},
   "outputs": [],
   "source": []
  }
 ],
 "metadata": {
  "kernelspec": {
   "display_name": "Python 3 (ipykernel)",
   "language": "python",
   "name": "python3"
  },
  "language_info": {
   "codemirror_mode": {
    "name": "ipython",
    "version": 3
   },
   "file_extension": ".py",
   "mimetype": "text/x-python",
   "name": "python",
   "nbconvert_exporter": "python",
   "pygments_lexer": "ipython3",
   "version": "3.7.12"
  }
 },
 "nbformat": 4,
 "nbformat_minor": 5
}
