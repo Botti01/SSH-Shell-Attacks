{
 "cells": [
  {
   "cell_type": "markdown",
   "id": "3b05a65a-8f04-4b07-b4dc-a6733114d6ea",
   "metadata": {
    "tags": []
   },
   "source": [
    "<center><b><font size=6>Supervised learning – classification<b><center>"
   ]
  },
  {
   "cell_type": "markdown",
   "id": "1493c734-98a1-46d0-afc7-8dcb4fbee969",
   "metadata": {},
   "source": [
    "This notebook implements the supervised learning component of the SSH Shell Attack session project. The goal is to classify attack session tactics based on the provided dataset."
   ]
  },
  {
   "cell_type": "markdown",
   "id": "3918cc71-645e-41c8-859c-004789d97d8b",
   "metadata": {},
   "source": [
    "0. **Install Dependencies**\n",
    "\n",
    "1. **Data Splitting**\n",
    "\n",
    "2. **Baseline Model Implementation**\n",
    "\n",
    "3. **Hyperparameter Tuning**\n",
    "\n",
    "4. **Result Analysis**\n",
    "    \n",
    "5. **Feature Experimentation**"
   ]
  },
  {
   "cell_type": "markdown",
   "id": "4a1394b3-39cb-4afa-855e-bd8984f3acb4",
   "metadata": {},
   "source": [
    "<center><b><font size=5>Install Dependencies<b><center>"
   ]
  },
  {
   "cell_type": "code",
   "execution_count": 1,
   "id": "a2ea6eeb-6a17-44f8-ac2a-ceebe7c05068",
   "metadata": {},
   "outputs": [
    {
     "name": "stdout",
     "output_type": "stream",
     "text": [
      "Installing packages for section2: scikit-learn\n",
      "Requirement already satisfied: scikit-learn in /opt/conda/lib/python3.7/site-packages (1.0.2)\n",
      "Requirement already satisfied: scipy>=1.1.0 in /opt/conda/lib/python3.7/site-packages (from scikit-learn) (1.7.3)\n",
      "Requirement already satisfied: joblib>=0.11 in /opt/conda/lib/python3.7/site-packages (from scikit-learn) (1.2.0)\n",
      "Requirement already satisfied: threadpoolctl>=2.0.0 in /opt/conda/lib/python3.7/site-packages (from scikit-learn) (3.1.0)\n",
      "Requirement already satisfied: numpy>=1.14.6 in /opt/conda/lib/python3.7/site-packages (from scikit-learn) (1.21.6)\n",
      "Successfully installed: scikit-learn\n"
     ]
    }
   ],
   "source": [
    "!python ../scripts/install_dependencies.py section2"
   ]
  },
  {
   "cell_type": "markdown",
   "id": "6cd36dbe-b3d7-47d3-afde-4529497c47bf",
   "metadata": {
    "tags": []
   },
   "source": [
    "<center><b><font size=5>Data Splitting<b><center>"
   ]
  },
  {
   "cell_type": "markdown",
   "id": "8beb347d-dd6b-45d3-9add-464198406be4",
   "metadata": {},
   "source": [
    "Split the dataset into training and testing sets.\n",
    "\n",
    "\"Perform a split to segment the dataset into training and test dataset.\n",
    "If you want to standardize your dataset, fit the scaler on training set and transforming both training\n",
    "and test. Notice that the sklearn implementation of tf-idf already performs the standardization.\"\n",
    "\n",
    "**Steps:**\n",
    "\n",
    "- Load the dataset from the given `.parquet` file.\n",
    "- Explore basic statistics and check for missing data.\n",
    "- Visualize the distribution of intents in the dataset."
   ]
  },
  {
   "cell_type": "markdown",
   "id": "1b382fb6-0210-4c85-9d36-b914562d733d",
   "metadata": {},
   "source": [
    "### Load the dataset\n",
    "\n",
    "- text\n",
    "- text"
   ]
  },
  {
   "cell_type": "code",
   "execution_count": null,
   "id": "292c38a8-f43d-40d7-b7a4-a69919a1c5bb",
   "metadata": {},
   "outputs": [],
   "source": []
  },
  {
   "cell_type": "markdown",
   "id": "f91c3904-b1f3-4864-b902-ef36ed5eceff",
   "metadata": {},
   "source": [
    "### Check for ... / Make some actions\n",
    "\n",
    "- text\n",
    "- text"
   ]
  },
  {
   "cell_type": "code",
   "execution_count": null,
   "id": "c4d89d24-69ca-4133-aa5b-6405387165ed",
   "metadata": {},
   "outputs": [],
   "source": []
  },
  {
   "cell_type": "markdown",
   "id": "b29ffb78-1e2e-4e43-90df-95b98b484f43",
   "metadata": {},
   "source": [
    "### Split the dataset\n",
    "\n",
    "- text\n",
    "- text"
   ]
  },
  {
   "cell_type": "code",
   "execution_count": null,
   "id": "54f9ed69-ec9b-497d-95a7-62f98e24d4f0",
   "metadata": {},
   "outputs": [],
   "source": []
  },
  {
   "cell_type": "markdown",
   "id": "11011a74-1596-4d17-aa56-f4f1c1738309",
   "metadata": {},
   "source": [
    "<center><b><font size=5>Baseline Model Implementation<b><center>"
   ]
  },
  {
   "cell_type": "markdown",
   "id": "c4a8b5a1-7755-458b-879c-061c968f6c25",
   "metadata": {},
   "source": [
    "Train at least two ML models and evaluate their performance.\n",
    "\n",
    "\"Choose at least 2 ML methods, and perform the model training, with default parameter\n",
    "configuration, evaluating the performance on both training and test set. Output the confusion\n",
    "matrix and classification report. Do you observe overfitting or under-fitting? Which model\n",
    "generates the best performance?\"\n",
    "\n",
    "**Steps:**\n",
    "\n",
    "- Train two different ML models (e.g., Logistic Regression and Random Forest).\n",
    "- Evaluate the models on the training and testing sets.\n",
    "- Generate confusion matrices and classification reports for each model."
   ]
  },
  {
   "cell_type": "markdown",
   "id": "a2154276-6b10-4b25-a738-daefbc82dfb0",
   "metadata": {},
   "source": [
    "### Chose models and train\n",
    "\n",
    "- text\n",
    "- text"
   ]
  },
  {
   "cell_type": "code",
   "execution_count": null,
   "id": "d5e31afd-40c8-4c95-bbc3-f48dc59c8403",
   "metadata": {},
   "outputs": [],
   "source": []
  },
  {
   "cell_type": "markdown",
   "id": "a5f8b0ba-af90-4873-a39d-50e43d662a6f",
   "metadata": {},
   "source": [
    "### Evaluate\n",
    "\n",
    "- text\n",
    "- text"
   ]
  },
  {
   "cell_type": "code",
   "execution_count": null,
   "id": "9aac4808-463a-4fa0-9cbc-b8aebfc4de21",
   "metadata": {},
   "outputs": [],
   "source": []
  },
  {
   "cell_type": "markdown",
   "id": "ad356c0c-d335-4c1c-82c7-abbb844c1cbf",
   "metadata": {},
   "source": [
    "### Confusion matrices / Classification reports\n",
    "\n",
    "- text\n",
    "- text"
   ]
  },
  {
   "cell_type": "code",
   "execution_count": null,
   "id": "1c578b07-30c3-4dda-875a-eb06631c28a2",
   "metadata": {},
   "outputs": [],
   "source": []
  },
  {
   "cell_type": "markdown",
   "id": "b2500760-e3a9-4739-954f-35e4f2fb6764",
   "metadata": {},
   "source": [
    "<center><b><font size=5>Hyperparameter Tuning<b><center>"
   ]
  },
  {
   "cell_type": "markdown",
   "id": "c24a9d10-df33-429a-8523-5be7931608d7",
   "metadata": {},
   "source": [
    "Fine-tune the hyperparameters of the ML models using cross-validation.\n",
    "\n",
    "\"Tune the hyper-parameters of the models through cross-validation. How do performance vary?\"\n",
    "\n",
    "**Steps:**\n",
    "\n",
    "TO BE CHECKED\n",
    "\n",
    "- Use GridSearchCV or RandomizedSearchCV to tune hyperparameters.\n",
    "- Evaluate the performance of the tuned models.\n",
    "- Compare the results with baseline performance."
   ]
  },
  {
   "cell_type": "markdown",
   "id": "c88594e9-1593-4ba0-9069-ce8269bbf2ff",
   "metadata": {},
   "source": [
    "### text\n",
    "\n",
    "- text\n",
    "- text"
   ]
  },
  {
   "cell_type": "code",
   "execution_count": null,
   "id": "697cef13-5bfd-4057-b38a-ad4db2f2adad",
   "metadata": {},
   "outputs": [],
   "source": []
  },
  {
   "cell_type": "markdown",
   "id": "b8d21086-d1a3-4e2c-b17a-695bd802138f",
   "metadata": {},
   "source": [
    "### text\n",
    "\n",
    "- text\n",
    "- text"
   ]
  },
  {
   "cell_type": "code",
   "execution_count": null,
   "id": "d4ef8f24-4f01-4d35-8e08-580ecbfa3da9",
   "metadata": {},
   "outputs": [],
   "source": []
  },
  {
   "cell_type": "markdown",
   "id": "1f0842cc-954a-4ed2-a068-1a8ec0ce86a1",
   "metadata": {},
   "source": [
    "### text\n",
    "\n",
    "- text\n",
    "- text"
   ]
  },
  {
   "cell_type": "code",
   "execution_count": null,
   "id": "a6344221-59e5-44f8-8d36-fdddb9c0ec3f",
   "metadata": {},
   "outputs": [],
   "source": []
  },
  {
   "cell_type": "markdown",
   "id": "6b8661d3-14d0-4356-8527-24be1fa36137",
   "metadata": {},
   "source": [
    "<center><b><font size=5>Result Analysis<b><center>"
   ]
  },
  {
   "cell_type": "markdown",
   "id": "17b4a80f-a649-4072-bc04-3d283adbe3ba",
   "metadata": {},
   "source": [
    "Analyze and summarize the results for each intent.\n",
    "\n",
    "\"Comments on the results for each on the intents.\"\n",
    "\n",
    "**Steps:**\n",
    "\n",
    "- Compare confusion matrices and classification reports.\n",
    "- Highlight trends and insights for each intent.\n",
    "- Summarize findings and discuss implications."
   ]
  },
  {
   "cell_type": "markdown",
   "id": "71c9e965-5c1c-4ad6-80c6-1e4b63337e08",
   "metadata": {},
   "source": [
    "### text\n",
    "\n",
    "- text\n",
    "- text"
   ]
  },
  {
   "cell_type": "code",
   "execution_count": null,
   "id": "e00aeaad-dbd8-4dc6-b1ec-9fc25d14b495",
   "metadata": {},
   "outputs": [],
   "source": []
  },
  {
   "cell_type": "markdown",
   "id": "3d5291bc-ca54-4c37-a91b-ffd74596fc16",
   "metadata": {},
   "source": [
    "### text\n",
    "\n",
    "- text\n",
    "- text"
   ]
  },
  {
   "cell_type": "code",
   "execution_count": null,
   "id": "12f8cb63-7bfa-4a5a-a44e-c84a35985ca0",
   "metadata": {},
   "outputs": [],
   "source": []
  },
  {
   "cell_type": "markdown",
   "id": "f70d6d8b-6428-428a-9cec-d60bd4c6d40d",
   "metadata": {},
   "source": [
    "### text\n",
    "\n",
    "- text\n",
    "- text"
   ]
  },
  {
   "cell_type": "code",
   "execution_count": null,
   "id": "9d98f55d-b20e-4c01-9822-70ebd5abb79a",
   "metadata": {},
   "outputs": [],
   "source": []
  },
  {
   "cell_type": "markdown",
   "id": "b473a968-648b-4847-98d6-1c95d0070609",
   "metadata": {},
   "source": [
    "<center><b><font size=5>Feature Experimentation<b><center>"
   ]
  },
  {
   "cell_type": "markdown",
   "id": "7a2933bf-2cd9-4ef5-a34e-bd1682911f57",
   "metadata": {},
   "source": [
    "Explore the impact of different features on model performance.\n",
    "\n",
    "\"Explore the possible features: try combining features differently, e.g., does tf-idf improve or worsen\n",
    "performance? Think about the problem and summarize the ways you have tried (even those that\n",
    "did not work).\"\n",
    "\n",
    "**Steps:**\n",
    "\n",
    "- Experiment with feature combinations (e.g., adding temporal features).\n",
    "- Observe performance changes with each combination.\n",
    "- Document successful and unsuccessful experiments."
   ]
  },
  {
   "cell_type": "markdown",
   "id": "280baddb-168d-4ad4-b2cf-1862de96e056",
   "metadata": {},
   "source": [
    "### text\n",
    "\n",
    "- text\n",
    "- text"
   ]
  },
  {
   "cell_type": "code",
   "execution_count": null,
   "id": "82963576-bf28-4a68-aaac-1ada30cff063",
   "metadata": {},
   "outputs": [],
   "source": []
  },
  {
   "cell_type": "markdown",
   "id": "1eda59b2-8d50-4088-add7-c38643d7a5b1",
   "metadata": {},
   "source": [
    "### text\n",
    "\n",
    "- text\n",
    "- text"
   ]
  },
  {
   "cell_type": "code",
   "execution_count": null,
   "id": "17a1a094-7762-4805-a6c9-d8955219ce6a",
   "metadata": {},
   "outputs": [],
   "source": []
  },
  {
   "cell_type": "markdown",
   "id": "1713a86b-62e6-4447-a20a-3e24bbf04a62",
   "metadata": {},
   "source": [
    "### text\n",
    "\n",
    "- text\n",
    "- text"
   ]
  },
  {
   "cell_type": "code",
   "execution_count": null,
   "id": "f0d7cbd5-5329-4631-8c21-45187f882ef4",
   "metadata": {},
   "outputs": [],
   "source": []
  }
 ],
 "metadata": {
  "kernelspec": {
   "display_name": "Python 3 (ipykernel)",
   "language": "python",
   "name": "python3"
  },
  "language_info": {
   "codemirror_mode": {
    "name": "ipython",
    "version": 3
   },
   "file_extension": ".py",
   "mimetype": "text/x-python",
   "name": "python",
   "nbconvert_exporter": "python",
   "pygments_lexer": "ipython3",
   "version": "3.7.12"
  }
 },
 "nbformat": 4,
 "nbformat_minor": 5
}
