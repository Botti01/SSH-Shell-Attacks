{
 "cells": [
  {
   "cell_type": "markdown",
   "id": "3b05a65a-8f04-4b07-b4dc-a6733114d6ea",
   "metadata": {
    "tags": []
   },
   "source": [
    "<center><b><font size=6>Supervised learning – classification<b><center>"
   ]
  },
  {
   "cell_type": "markdown",
   "id": "1493c734-98a1-46d0-afc7-8dcb4fbee969",
   "metadata": {},
   "source": [
    "This notebook implements the supervised learning component of the SSH Shell Attack session project. The goal is to classify attack session tactics based on the provided dataset."
   ]
  },
  {
   "cell_type": "markdown",
   "id": "3918cc71-645e-41c8-859c-004789d97d8b",
   "metadata": {},
   "source": [
    "1. **Data Splitting**\n",
    "\n",
    "2. **Baseline Model Implementation**\n",
    "\n",
    "3. **Hyperparameter Tuning**\n",
    "    \n",
    "4. **Feature Experimentation**\n",
    "    \n",
    "5. **Result Analysis**\n",
    "\n",
    "- 1. Split the dataset into training and testing sets.\n",
    "- 2. Train at least two ML models and evaluate their performance.\n",
    "- 3. Tune hyperparameters using cross-validation.\n",
    "- 4. Analyze and summarize results for each intent.\n",
    "- 5. Experiment with different feature combinations."
   ]
  },
  {
   "cell_type": "markdown",
   "id": "6cd36dbe-b3d7-47d3-afde-4529497c47bf",
   "metadata": {
    "tags": []
   },
   "source": [
    "<center><b><font size=5>Data Splitting<b><center>"
   ]
  },
  {
   "cell_type": "code",
   "execution_count": null,
   "id": "292c38a8-f43d-40d7-b7a4-a69919a1c5bb",
   "metadata": {},
   "outputs": [],
   "source": []
  },
  {
   "cell_type": "markdown",
   "id": "11011a74-1596-4d17-aa56-f4f1c1738309",
   "metadata": {},
   "source": [
    "<center><b><font size=5>Baseline Model Implementation<b><center>"
   ]
  },
  {
   "cell_type": "code",
   "execution_count": null,
   "id": "d5e31afd-40c8-4c95-bbc3-f48dc59c8403",
   "metadata": {},
   "outputs": [],
   "source": []
  },
  {
   "cell_type": "markdown",
   "id": "b2500760-e3a9-4739-954f-35e4f2fb6764",
   "metadata": {},
   "source": [
    "<center><b><font size=5>Hyperparameter Tuning<b><center>"
   ]
  },
  {
   "cell_type": "code",
   "execution_count": null,
   "id": "697cef13-5bfd-4057-b38a-ad4db2f2adad",
   "metadata": {},
   "outputs": [],
   "source": []
  },
  {
   "cell_type": "markdown",
   "id": "b473a968-648b-4847-98d6-1c95d0070609",
   "metadata": {},
   "source": [
    "<center><b><font size=5>Feature Experimentation<b><center>"
   ]
  },
  {
   "cell_type": "code",
   "execution_count": null,
   "id": "9d98f55d-b20e-4c01-9822-70ebd5abb79a",
   "metadata": {},
   "outputs": [],
   "source": []
  },
  {
   "cell_type": "markdown",
   "id": "6b8661d3-14d0-4356-8527-24be1fa36137",
   "metadata": {},
   "source": [
    "<center><b><font size=5>Result Analysis<b><center>"
   ]
  },
  {
   "cell_type": "code",
   "execution_count": null,
   "id": "e00aeaad-dbd8-4dc6-b1ec-9fc25d14b495",
   "metadata": {},
   "outputs": [],
   "source": []
  }
 ],
 "metadata": {
  "kernelspec": {
   "display_name": "Python 3 (ipykernel)",
   "language": "python",
   "name": "python3"
  },
  "language_info": {
   "codemirror_mode": {
    "name": "ipython",
    "version": 3
   },
   "file_extension": ".py",
   "mimetype": "text/x-python",
   "name": "python",
   "nbconvert_exporter": "python",
   "pygments_lexer": "ipython3",
   "version": "3.7.12"
  }
 },
 "nbformat": 4,
 "nbformat_minor": 5
}
