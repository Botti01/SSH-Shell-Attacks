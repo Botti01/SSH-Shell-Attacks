{
 "cells": [
  {
   "cell_type": "markdown",
   "id": "3b05a65a-8f04-4b07-b4dc-a6733114d6ea",
   "metadata": {
    "tags": []
   },
   "source": [
    "<center><b><font size=6>Supervised learning – classification<b><center>"
   ]
  },
  {
   "cell_type": "markdown",
   "id": "1493c734-98a1-46d0-afc7-8dcb4fbee969",
   "metadata": {},
   "source": [
    "This notebook implements the supervised learning component of the SSH Shell Attack session project. The goal is to classify attack session tactics based on the provided dataset."
   ]
  },
  {
   "cell_type": "markdown",
   "id": "3918cc71-645e-41c8-859c-004789d97d8b",
   "metadata": {},
   "source": [
    "0. **Install Dependencies**\n",
    "1. **Data Splitting**\n",
    "2. **Baseline Model Implementation**\n",
    "3. **Hyperparameter Tuning**\n",
    "4. **Result Analysis**  \n",
    "5. **Feature Experimentation**"
   ]
  },
  {
   "cell_type": "markdown",
   "id": "4a1394b3-39cb-4afa-855e-bd8984f3acb4",
   "metadata": {},
   "source": [
    "<center><b><font size=5>Install Dependencies<b><center>"
   ]
  },
  {
   "cell_type": "code",
   "execution_count": 12,
   "id": "a2ea6eeb-6a17-44f8-ac2a-ceebe7c05068",
   "metadata": {},
   "outputs": [
    {
     "name": "stdout",
     "output_type": "stream",
     "text": [
      "Installing common dependencies...\n",
      "Installing packages for common: pyarrow, pandas\n",
      "Requirement already satisfied: pyarrow in c:\\users\\x\\appdata\\local\\programs\\python\\python36\\lib\\site-packages (6.0.1)\n",
      "Requirement already satisfied: numpy>=1.16.6 in c:\\users\\x\\appdata\\local\\programs\\python\\python36\\lib\\site-packages (from pyarrow) (1.19.5)\n",
      "Successfully installed: pyarrow\n",
      "Requirement already satisfied: pandas in c:\\users\\x\\appdata\\local\\programs\\python\\python36\\lib\\site-packages (1.1.5)\n",
      "Requirement already satisfied: numpy>=1.15.4 in c:\\users\\x\\appdata\\local\\programs\\python\\python36\\lib\\site-packages (from pandas) (1.19.5)\n",
      "Requirement already satisfied: pytz>=2017.2 in c:\\users\\x\\appdata\\local\\programs\\python\\python36\\lib\\site-packages (from pandas) (2024.1)\n",
      "Requirement already satisfied: python-dateutil>=2.7.3 in c:\\users\\x\\appdata\\local\\programs\\python\\python36\\lib\\site-packages (from pandas) (2.9.0.post0)\n",
      "Requirement already satisfied: six>=1.5 in c:\\users\\x\\appdata\\local\\programs\\python\\python36\\lib\\site-packages (from python-dateutil>=2.7.3->pandas) (1.16.0)\n",
      "Successfully installed: pandas\n",
      "Installing dependencies for section: section2...\n",
      "Installing packages for section2: scikit-learn\n",
      "Requirement already satisfied: scikit-learn in c:\\users\\x\\appdata\\local\\programs\\python\\python36\\lib\\site-packages (0.24.2)\n",
      "Requirement already satisfied: numpy>=1.13.3 in c:\\users\\x\\appdata\\local\\programs\\python\\python36\\lib\\site-packages (from scikit-learn) (1.19.5)\n",
      "Requirement already satisfied: joblib>=0.11 in c:\\users\\x\\appdata\\local\\programs\\python\\python36\\lib\\site-packages (from scikit-learn) (1.1.1)\n",
      "Requirement already satisfied: threadpoolctl>=2.0.0 in c:\\users\\x\\appdata\\local\\programs\\python\\python36\\lib\\site-packages (from scikit-learn) (3.1.0)\n",
      "Requirement already satisfied: scipy>=0.19.1 in c:\\users\\x\\appdata\\local\\programs\\python\\python36\\lib\\site-packages (from scikit-learn) (1.5.4)\n",
      "Successfully installed: scikit-learn\n"
     ]
    }
   ],
   "source": [
    "!python ../scripts/install_dependencies.py section2"
   ]
  },
  {
   "cell_type": "code",
   "execution_count": 13,
   "id": "4747fd5b",
   "metadata": {},
   "outputs": [],
   "source": [
    "import pandas as pd\n",
    "import seaborn as sns\n",
    "import matplotlib.pyplot as plt\n",
    "import time\n",
    "\n",
    "from sklearn.model_selection import train_test_split\n",
    "from sklearn.preprocessing import MultiLabelBinarizer\n",
    "from sklearn.feature_extraction.text import TfidfVectorizer\n",
    "from sklearn.linear_model import LogisticRegression\n",
    "from sklearn.ensemble import RandomForestClassifier\n",
    "from sklearn.svm import SVC\n",
    "from sklearn.metrics import classification_report, confusion_matrix\n"
   ]
  },
  {
   "cell_type": "markdown",
   "id": "6cd36dbe-b3d7-47d3-afde-4529497c47bf",
   "metadata": {
    "tags": []
   },
   "source": [
    "<center><b><font size=5>Data Splitting<b><center>"
   ]
  },
  {
   "cell_type": "markdown",
   "id": "8beb347d-dd6b-45d3-9add-464198406be4",
   "metadata": {},
   "source": [
    "Split the dataset into training and testing sets.\n",
    "\n",
    "\"Perform a split to segment the dataset into training and test dataset.\n",
    "If you want to standardize your dataset, fit the scaler on training set and transforming both training\n",
    "and test. Notice that the sklearn implementation of tf-idf already performs the standardization.\"\n",
    "\n",
    "**Steps:**\n",
    "\n",
    "- Load the dataset from the given `.parquet` file.\n",
    "- Explore basic statistics and check for missing data.\n",
    "- Visualize the distribution of intents in the dataset."
   ]
  },
  {
   "cell_type": "markdown",
   "id": "1b382fb6-0210-4c85-9d36-b914562d733d",
   "metadata": {},
   "source": [
    "### Load the dataset\n",
    "\n",
    "- text\n",
    "- text"
   ]
  },
  {
   "cell_type": "code",
   "execution_count": 14,
   "id": "292c38a8-f43d-40d7-b7a4-a69919a1c5bb",
   "metadata": {},
   "outputs": [
    {
     "data": {
      "text/html": [
       "<div>\n",
       "<style scoped>\n",
       "    .dataframe tbody tr th:only-of-type {\n",
       "        vertical-align: middle;\n",
       "    }\n",
       "\n",
       "    .dataframe tbody tr th {\n",
       "        vertical-align: top;\n",
       "    }\n",
       "\n",
       "    .dataframe thead th {\n",
       "        text-align: right;\n",
       "    }\n",
       "</style>\n",
       "<table border=\"1\" class=\"dataframe\">\n",
       "  <thead>\n",
       "    <tr style=\"text-align: right;\">\n",
       "      <th></th>\n",
       "      <th>session_id</th>\n",
       "      <th>full_session</th>\n",
       "      <th>first_timestamp</th>\n",
       "      <th>Set_Fingerprint</th>\n",
       "    </tr>\n",
       "  </thead>\n",
       "  <tbody>\n",
       "    <tr>\n",
       "      <th>0</th>\n",
       "      <td>0</td>\n",
       "      <td>[enable, system, sh, sh, cat, proc, mounts, bi...</td>\n",
       "      <td>2019-06-04 09:45:11.151186+00:00</td>\n",
       "      <td>[Defense Evasion, Discovery]</td>\n",
       "    </tr>\n",
       "    <tr>\n",
       "      <th>1</th>\n",
       "      <td>1</td>\n",
       "      <td>[enable, system, sh, sh, cat, proc, mounts, bi...</td>\n",
       "      <td>2019-06-04 09:45:50.396610+00:00</td>\n",
       "      <td>[Defense Evasion, Discovery]</td>\n",
       "    </tr>\n",
       "    <tr>\n",
       "      <th>2</th>\n",
       "      <td>2</td>\n",
       "      <td>[enable, system, sh, sh, cat, proc, mounts, bi...</td>\n",
       "      <td>2019-06-04 09:54:41.863315+00:00</td>\n",
       "      <td>[Defense Evasion, Discovery]</td>\n",
       "    </tr>\n",
       "    <tr>\n",
       "      <th>3</th>\n",
       "      <td>3</td>\n",
       "      <td>[enable, system, sh, sh, cat, proc, mounts, bi...</td>\n",
       "      <td>2019-06-04 10:22:14.623875+00:00</td>\n",
       "      <td>[Defense Evasion, Discovery]</td>\n",
       "    </tr>\n",
       "    <tr>\n",
       "      <th>4</th>\n",
       "      <td>4</td>\n",
       "      <td>[enable, system, sh, sh, cat, proc, mounts, bi...</td>\n",
       "      <td>2019-06-04 10:37:19.725874+00:00</td>\n",
       "      <td>[Defense Evasion, Discovery]</td>\n",
       "    </tr>\n",
       "    <tr>\n",
       "      <th>...</th>\n",
       "      <td>...</td>\n",
       "      <td>...</td>\n",
       "      <td>...</td>\n",
       "      <td>...</td>\n",
       "    </tr>\n",
       "    <tr>\n",
       "      <th>233030</th>\n",
       "      <td>233042</td>\n",
       "      <td>[cat, proc, cp, grep, name, echo, passwd, bash...</td>\n",
       "      <td>2020-02-29 23:47:28.217237+00:00</td>\n",
       "      <td>[Discovery, Persistence]</td>\n",
       "    </tr>\n",
       "    <tr>\n",
       "      <th>233031</th>\n",
       "      <td>233043</td>\n",
       "      <td>[cat, proc, cp, grep, name, echo, passwd, bash...</td>\n",
       "      <td>2020-02-29 23:49:01.009046+00:00</td>\n",
       "      <td>[Discovery, Persistence]</td>\n",
       "    </tr>\n",
       "    <tr>\n",
       "      <th>233032</th>\n",
       "      <td>233044</td>\n",
       "      <td>[cat, proc, cp, grep, name, echo, ss, passwd, ...</td>\n",
       "      <td>2020-02-29 23:56:18.827281+00:00</td>\n",
       "      <td>[Discovery, Persistence]</td>\n",
       "    </tr>\n",
       "    <tr>\n",
       "      <th>233033</th>\n",
       "      <td>233045</td>\n",
       "      <td>[cat, proc, cp, grep, name, echo, passwd, bash...</td>\n",
       "      <td>2020-02-29 23:56:56.263104+00:00</td>\n",
       "      <td>[Discovery, Persistence]</td>\n",
       "    </tr>\n",
       "    <tr>\n",
       "      <th>233034</th>\n",
       "      <td>233046</td>\n",
       "      <td>[cat, proc, cp, grep, name, echo, passwd, bash...</td>\n",
       "      <td>2020-02-29 23:59:22.199490+00:00</td>\n",
       "      <td>[Discovery, Persistence]</td>\n",
       "    </tr>\n",
       "  </tbody>\n",
       "</table>\n",
       "<p>233035 rows × 4 columns</p>\n",
       "</div>"
      ],
      "text/plain": [
       "        session_id                                       full_session  \\\n",
       "0                0  [enable, system, sh, sh, cat, proc, mounts, bi...   \n",
       "1                1  [enable, system, sh, sh, cat, proc, mounts, bi...   \n",
       "2                2  [enable, system, sh, sh, cat, proc, mounts, bi...   \n",
       "3                3  [enable, system, sh, sh, cat, proc, mounts, bi...   \n",
       "4                4  [enable, system, sh, sh, cat, proc, mounts, bi...   \n",
       "...            ...                                                ...   \n",
       "233030      233042  [cat, proc, cp, grep, name, echo, passwd, bash...   \n",
       "233031      233043  [cat, proc, cp, grep, name, echo, passwd, bash...   \n",
       "233032      233044  [cat, proc, cp, grep, name, echo, ss, passwd, ...   \n",
       "233033      233045  [cat, proc, cp, grep, name, echo, passwd, bash...   \n",
       "233034      233046  [cat, proc, cp, grep, name, echo, passwd, bash...   \n",
       "\n",
       "                        first_timestamp               Set_Fingerprint  \n",
       "0      2019-06-04 09:45:11.151186+00:00  [Defense Evasion, Discovery]  \n",
       "1      2019-06-04 09:45:50.396610+00:00  [Defense Evasion, Discovery]  \n",
       "2      2019-06-04 09:54:41.863315+00:00  [Defense Evasion, Discovery]  \n",
       "3      2019-06-04 10:22:14.623875+00:00  [Defense Evasion, Discovery]  \n",
       "4      2019-06-04 10:37:19.725874+00:00  [Defense Evasion, Discovery]  \n",
       "...                                 ...                           ...  \n",
       "233030 2020-02-29 23:47:28.217237+00:00      [Discovery, Persistence]  \n",
       "233031 2020-02-29 23:49:01.009046+00:00      [Discovery, Persistence]  \n",
       "233032 2020-02-29 23:56:18.827281+00:00      [Discovery, Persistence]  \n",
       "233033 2020-02-29 23:56:56.263104+00:00      [Discovery, Persistence]  \n",
       "233034 2020-02-29 23:59:22.199490+00:00      [Discovery, Persistence]  \n",
       "\n",
       "[233035 rows x 4 columns]"
      ]
     },
     "execution_count": 14,
     "metadata": {},
     "output_type": "execute_result"
    }
   ],
   "source": [
    "SSH_Attacks = pd.read_parquet(\"../data/processed/ssh_attacks_decoded.parquet\")\n",
    "SSH_Attacks"
   ]
  },
  {
   "cell_type": "markdown",
   "id": "f91c3904-b1f3-4864-b902-ef36ed5eceff",
   "metadata": {},
   "source": [
    "### Check for ... / Make some actions\n",
    "\n",
    "- text\n",
    "- text"
   ]
  },
  {
   "cell_type": "code",
   "execution_count": 15,
   "id": "c4d89d24-69ca-4133-aa5b-6405387165ed",
   "metadata": {},
   "outputs": [
    {
     "name": "stdout",
     "output_type": "stream",
     "text": [
      "Dataset Head:\n",
      "   session_id                                       full_session  \\\n",
      "0           0  [enable, system, sh, sh, cat, proc, mounts, bi...   \n",
      "1           1  [enable, system, sh, sh, cat, proc, mounts, bi...   \n",
      "2           2  [enable, system, sh, sh, cat, proc, mounts, bi...   \n",
      "3           3  [enable, system, sh, sh, cat, proc, mounts, bi...   \n",
      "4           4  [enable, system, sh, sh, cat, proc, mounts, bi...   \n",
      "\n",
      "                   first_timestamp               Set_Fingerprint  \n",
      "0 2019-06-04 09:45:11.151186+00:00  [Defense Evasion, Discovery]  \n",
      "1 2019-06-04 09:45:50.396610+00:00  [Defense Evasion, Discovery]  \n",
      "2 2019-06-04 09:54:41.863315+00:00  [Defense Evasion, Discovery]  \n",
      "3 2019-06-04 10:22:14.623875+00:00  [Defense Evasion, Discovery]  \n",
      "4 2019-06-04 10:37:19.725874+00:00  [Defense Evasion, Discovery]  \n",
      "\n",
      "Random Sample:\n",
      "        session_id                                       full_session  \\\n",
      "221873      221884  [cat, proc, cp, grep, name, echo, ss, passwd, ...   \n",
      "191269      191279  [cat, proc, cp, grep, name, echo, passwd, bash...   \n",
      "91361        91369  [cat, proc, cp, grep, name, echo, passwd, bash...   \n",
      "192809      192819  [cat, proc, cp, grep, name, echo, passwd, bash...   \n",
      "122592      122600  [cat, proc, cp, grep, name, echo, passwd, bash...   \n",
      "\n",
      "                        first_timestamp                     Set_Fingerprint  \n",
      "221873 2020-02-16 05:08:14.264235+00:00            [Discovery, Persistence]  \n",
      "191269 2020-01-11 08:40:08.362866+00:00            [Discovery, Persistence]  \n",
      "91361  2019-11-19 13:32:05.882638+00:00            [Discovery, Persistence]  \n",
      "192809 2020-01-13 10:39:15.926335+00:00            [Discovery, Persistence]  \n",
      "122592 2019-12-05 05:57:04.559153+00:00  [Discovery, Harmless, Persistence]  \n",
      "Dataset Overview:\n",
      "<class 'pandas.core.frame.DataFrame'>\n",
      "RangeIndex: 233035 entries, 0 to 233034\n",
      "Data columns (total 4 columns):\n",
      " #   Column           Non-Null Count   Dtype              \n",
      "---  ------           --------------   -----              \n",
      " 0   session_id       233035 non-null  int64              \n",
      " 1   full_session     233035 non-null  object             \n",
      " 2   first_timestamp  233035 non-null  datetime64[ns, UTC]\n",
      " 3   Set_Fingerprint  233035 non-null  object             \n",
      "dtypes: datetime64[ns, UTC](1), int64(1), object(2)\n",
      "memory usage: 49.8 MB\n",
      "None\n",
      "\n",
      "Summary Statistics (Selected Columns):\n",
      "           session_id                   first_timestamp\n",
      "count   233035.000000                            233035\n",
      "unique            NaN                            233035\n",
      "top               NaN  2019-12-12 23:42:45.480300+00:00\n",
      "freq              NaN                                 1\n",
      "first             NaN  2019-06-04 09:45:11.151186+00:00\n",
      "last              NaN  2020-02-29 23:59:22.199490+00:00\n",
      "mean    116524.641050                               NaN\n",
      "std      67274.051258                               NaN\n",
      "min          0.000000                               NaN\n",
      "25%      58265.500000                               NaN\n",
      "50%     116525.000000                               NaN\n",
      "75%     174785.500000                               NaN\n",
      "max     233046.000000                               NaN\n",
      "<class 'pandas.core.frame.DataFrame'>\n",
      "RangeIndex: 233035 entries, 0 to 233034\n",
      "Data columns (total 4 columns):\n",
      " #   Column           Non-Null Count   Dtype              \n",
      "---  ------           --------------   -----              \n",
      " 0   session_id       233035 non-null  int64              \n",
      " 1   full_session     233035 non-null  object             \n",
      " 2   first_timestamp  233035 non-null  datetime64[ns, UTC]\n",
      " 3   Set_Fingerprint  233035 non-null  object             \n",
      "dtypes: datetime64[ns, UTC](1), int64(1), object(2)\n",
      "memory usage: 49.8 MB\n",
      "None\n",
      "Execution Time: 0.11 seconds\n"
     ]
    },
    {
     "name": "stderr",
     "output_type": "stream",
     "text": [
      "c:\\users\\x\\appdata\\local\\programs\\python\\python36\\lib\\site-packages\\ipykernel_launcher.py:15: FutureWarning: Treating datetime data as categorical rather than numeric in `.describe` is deprecated and will be removed in a future version of pandas. Specify `datetime_is_numeric=True` to silence this warning and adopt the future behavior now.\n",
      "  from ipykernel import kernelapp as app\n"
     ]
    }
   ],
   "source": [
    "# Display the first few rows of the dataset\n",
    "print(\"Dataset Head:\")\n",
    "print(SSH_Attacks.head())  # Useful to quickly verify the structure of the dataset\n",
    "\n",
    "# Display a random sample of 5 rows to get an idea of the dataset's variability\n",
    "print(\"\\nRandom Sample:\")\n",
    "print(SSH_Attacks.sample(5))\n",
    "\n",
    "# Provide an overview of the dataset, including column data types and memory usage\n",
    "print(\"Dataset Overview:\")\n",
    "print(SSH_Attacks.info(memory_usage='deep'))  # Using 'deep' to handle potential memory usage issues\n",
    "\n",
    "# Display summary statistics for selected columns\n",
    "print(\"\\nSummary Statistics (Selected Columns):\")\n",
    "print(SSH_Attacks[['session_id', 'first_timestamp']].describe(include='all'))  # Focus on simpler columns\n",
    "\n",
    "# Create a sample of 1000 rows from the dataset for faster analysis\n",
    "SSH_Attacks_sample = SSH_Attacks.sample(1000, random_state=42)  # Ensures reproducibility with random_state\n",
    "\n",
    "# Measure execution time for the dataset overview\n",
    "start_time = time.time()\n",
    "print(SSH_Attacks.info(memory_usage='deep'))  # Repeat to observe any differences or delays\n",
    "print(\"Execution Time: {:.2f} seconds\".format(time.time() - start_time))  # Outputs time taken for the operation"
   ]
  },
  {
   "cell_type": "markdown",
   "id": "b29ffb78-1e2e-4e43-90df-95b98b484f43",
   "metadata": {},
   "source": [
    "### Split the dataset\n",
    "\n",
    "- text\n",
    "- text"
   ]
  },
  {
   "cell_type": "code",
   "execution_count": 16,
   "id": "54f9ed69-ec9b-497d-95a7-62f98e24d4f0",
   "metadata": {},
   "outputs": [
    {
     "name": "stdout",
     "output_type": "stream",
     "text": [
      "\n",
      "Processed Training set size: 163124\n",
      "Processed Testing set size: 69911\n",
      "Classes: ['Defense Evasion' 'Discovery' 'Execution' 'Harmless' 'Impact' 'Other'\n",
      " 'Persistence']\n"
     ]
    }
   ],
   "source": [
    "# Split the data into features (X) and labels (y)\n",
    "X = SSH_Attacks['full_session']  # Text data\n",
    "y = SSH_Attacks['Set_Fingerprint']  # Multi-label target\n",
    "\n",
    "# Split into training and testing sets (70/30 split)\n",
    "X_train, X_test, y_train, y_test = train_test_split(\n",
    "    X, y, test_size=0.3, random_state=42\n",
    ")\n",
    "\n",
    "# Convert to strings to ensure compatibility with TfidfVectorizer\n",
    "X_train = X_train.astype(str)\n",
    "X_test = X_test.astype(str)\n",
    "\n",
    "# Vectorize the text data using TF-IDF (standardization is included in TF-IDF by default)\n",
    "tfidf_vectorizer = TfidfVectorizer(max_features=5000)\n",
    "X_train_tfidf = tfidf_vectorizer.fit_transform(X_train)\n",
    "X_test_tfidf = tfidf_vectorizer.transform(X_test)\n",
    "\n",
    "# Convert multi-label data into binary format\n",
    "y_train_list = y_train.apply(lambda x: set(x))\n",
    "y_test_list = y_test.apply(lambda x: set(x))\n",
    "\n",
    "mlb = MultiLabelBinarizer()\n",
    "y_train_binary = pd.DataFrame(mlb.fit_transform(y_train_list), columns=mlb.classes_, index=y_train.index)\n",
    "y_test_binary = pd.DataFrame(mlb.transform(y_test_list), columns=mlb.classes_, index=y_test.index)\n",
    "\n",
    "# Print basic info about the processed data\n",
    "print(\"\\nProcessed Training set size:\", len(X_train))\n",
    "print(\"Processed Testing set size:\", len(X_test))\n",
    "print(\"Classes:\", mlb.classes_)\n"
   ]
  },
  {
   "cell_type": "markdown",
   "id": "11011a74-1596-4d17-aa56-f4f1c1738309",
   "metadata": {},
   "source": [
    "<center><b><font size=5>Baseline Model Implementation<b><center>"
   ]
  },
  {
   "cell_type": "markdown",
   "id": "c4a8b5a1-7755-458b-879c-061c968f6c25",
   "metadata": {},
   "source": [
    "Train at least two ML models and evaluate their performance.\n",
    "\n",
    "\"Choose at least 2 ML methods, and perform the model training, with default parameter\n",
    "configuration, evaluating the performance on both training and test set. Output the confusion\n",
    "matrix and classification report. Do you observe overfitting or under-fitting? Which model\n",
    "generates the best performance?\"\n",
    "\n",
    "**Steps:**\n",
    "\n",
    "- Train different ML models (e.g., Logistic Regression and Random Forest).\n",
    "- Logistic Regression - Training and Evaluation.\n",
    "- Random Forest - Training and Evaluation.\n",
    "- Support Vector Machine (SVM) - Training and Evaluation.\n",
    "- Compare performance and check for overfitting/underfitting."
   ]
  },
  {
   "cell_type": "markdown",
   "id": "a2154276-6b10-4b25-a738-daefbc82dfb0",
   "metadata": {},
   "source": [
    "### Chose models and train\n",
    "\n",
    "- text\n",
    "- text"
   ]
  },
  {
   "cell_type": "code",
   "execution_count": 17,
   "id": "1642af27",
   "metadata": {},
   "outputs": [],
   "source": [
    "# Initialize models\n",
    "models = {\n",
    "    \"Logistic Regression\": LogisticRegression(max_iter=1000, random_state=42),\n",
    "    \"Random Forest\": RandomForestClassifier(n_estimators=100, random_state=42),\n",
    "    \"SVM\": SVC(kernel='linear', random_state=42)  # Linear kernel for SVM\n",
    "}\n"
   ]
  },
  {
   "cell_type": "markdown",
   "id": "a5f8b0ba-af90-4873-a39d-50e43d662a6f",
   "metadata": {},
   "source": [
    "### Logistic Regression\n",
    "\n",
    "- text\n",
    "- text"
   ]
  },
  {
   "cell_type": "code",
   "execution_count": 19,
   "id": "9aac4808-463a-4fa0-9cbc-b8aebfc4de21",
   "metadata": {},
   "outputs": [
    {
     "name": "stdout",
     "output_type": "stream",
     "text": [
      "Training for label: Defense Evasion\n",
      "Classification Report for Defense Evasion:\n",
      "\n",
      "              precision    recall  f1-score   support\n",
      "\n",
      "           0       1.00      1.00      1.00     64277\n",
      "           1       0.98      0.96      0.97      5634\n",
      "\n",
      "    accuracy                           1.00     69911\n",
      "   macro avg       0.99      0.98      0.99     69911\n",
      "weighted avg       1.00      1.00      1.00     69911\n",
      "\n"
     ]
    },
    {
     "data": {
      "image/png": "[encoded data removed]",
      "text/plain": [
       "<Figure size 432x288 with 1 Axes>"
      ]
     },
     "metadata": {
      "needs_background": "light"
     },
     "output_type": "display_data"
    },
    {
     "name": "stdout",
     "output_type": "stream",
     "text": [
      "Training for label: Discovery\n",
      "Classification Report for Discovery:\n",
      "\n",
      "              precision    recall  f1-score   support\n",
      "\n",
      "           0       0.92      0.88      0.90       252\n",
      "           1       1.00      1.00      1.00     69659\n",
      "\n",
      "    accuracy                           1.00     69911\n",
      "   macro avg       0.96      0.94      0.95     69911\n",
      "weighted avg       1.00      1.00      1.00     69911\n",
      "\n"
     ]
    },
    {
     "data": {
      "image/png": "[encoded data removed]",
      "text/plain": [
       "<Figure size 432x288 with 1 Axes>"
      ]
     },
     "metadata": {
      "needs_background": "light"
     },
     "output_type": "display_data"
    },
    {
     "name": "stdout",
     "output_type": "stream",
     "text": [
      "Training for label: Execution\n",
      "Classification Report for Execution:\n",
      "\n",
      "              precision    recall  f1-score   support\n",
      "\n",
      "           0       0.99      1.00      1.00     42194\n",
      "           1       1.00      0.99      0.99     27717\n",
      "\n",
      "    accuracy                           0.99     69911\n",
      "   macro avg       1.00      0.99      0.99     69911\n",
      "weighted avg       0.99      0.99      0.99     69911\n",
      "\n"
     ]
    },
    {
     "data": {
      "image/png": "[encoded data removed]",
      "text/plain": [
       "<Figure size 432x288 with 1 Axes>"
      ]
     },
     "metadata": {
      "needs_background": "light"
     },
     "output_type": "display_data"
    },
    {
     "name": "stdout",
     "output_type": "stream",
     "text": [
      "Training for label: Harmless\n",
      "Classification Report for Harmless:\n",
      "\n",
      "              precision    recall  f1-score   support\n",
      "\n",
      "           0       0.99      1.00      1.00     69241\n",
      "           1       0.92      0.09      0.17       670\n",
      "\n",
      "    accuracy                           0.99     69911\n",
      "   macro avg       0.96      0.55      0.58     69911\n",
      "weighted avg       0.99      0.99      0.99     69911\n",
      "\n"
     ]
    },
    {
     "data": {
      "image/png": "[encoded data removed]",
      "text/plain": [
       "<Figure size 432x288 with 1 Axes>"
      ]
     },
     "metadata": {
      "needs_background": "light"
     },
     "output_type": "display_data"
    },
    {
     "name": "stdout",
     "output_type": "stream",
     "text": [
      "Training for label: Impact\n",
      "Classification Report for Impact:\n",
      "\n",
      "              precision    recall  f1-score   support\n",
      "\n",
      "           0       1.00      1.00      1.00     69909\n",
      "           1       0.00      0.00      0.00         2\n",
      "\n",
      "    accuracy                           1.00     69911\n",
      "   macro avg       0.50      0.50      0.50     69911\n",
      "weighted avg       1.00      1.00      1.00     69911\n",
      "\n"
     ]
    },
    {
     "data": {
      "image/png": "[encoded data removed]",
      "text/plain": [
       "<Figure size 432x288 with 1 Axes>"
      ]
     },
     "metadata": {
      "needs_background": "light"
     },
     "output_type": "display_data"
    },
    {
     "name": "stdout",
     "output_type": "stream",
     "text": [
      "Training for label: Other\n",
      "Classification Report for Other:\n",
      "\n",
      "              precision    recall  f1-score   support\n",
      "\n",
      "           0       1.00      1.00      1.00     69808\n",
      "           1       1.00      0.90      0.95       103\n",
      "\n",
      "    accuracy                           1.00     69911\n",
      "   macro avg       1.00      0.95      0.97     69911\n",
      "weighted avg       1.00      1.00      1.00     69911\n",
      "\n"
     ]
    },
    {
     "data": {
      "image/png": "[encoded data removed]",
      "text/plain": [
       "<Figure size 432x288 with 1 Axes>"
      ]
     },
     "metadata": {
      "needs_background": "light"
     },
     "output_type": "display_data"
    },
    {
     "name": "stdout",
     "output_type": "stream",
     "text": [
      "Training for label: Persistence\n",
      "Classification Report for Persistence:\n",
      "\n",
      "              precision    recall  f1-score   support\n",
      "\n",
      "           0       1.00      0.98      0.99      6480\n",
      "           1       1.00      1.00      1.00     63431\n",
      "\n",
      "    accuracy                           1.00     69911\n",
      "   macro avg       1.00      0.99      0.99     69911\n",
      "weighted avg       1.00      1.00      1.00     69911\n",
      "\n"
     ]
    },
    {
     "data": {
      "image/png": "[encoded data removed]",
      "text/plain": [
       "<Figure size 432x288 with 1 Axes>"
      ]
     },
     "metadata": {
      "needs_background": "light"
     },
     "output_type": "display_data"
    }
   ],
   "source": [
    "# Initialize the Logistic Regression model\n",
    "log_reg_model = LogisticRegression(max_iter=1000, random_state=42)\n",
    "\n",
    "# Create an empty DataFrame to store predictions for multilabel compatibility\n",
    "y_pred_log_reg = pd.DataFrame(index=y_test_binary.index, columns=y_test_binary.columns)\n",
    "\n",
    "# Train and evaluate for each label\n",
    "for label in y_train_binary.columns:\n",
    "    print(f\"Training for label: {label}\")\n",
    "    \n",
    "    # Train the model\n",
    "    log_reg_model.fit(X_train_tfidf, y_train_binary[label])\n",
    "    \n",
    "    # Predict and store the results in the corresponding column\n",
    "    y_pred_log_reg[label] = log_reg_model.predict(X_test_tfidf)\n",
    "    \n",
    "    # Evaluate performance for the specific label\n",
    "    print(f\"Classification Report for {label}:\\n\")\n",
    "    print(classification_report(\n",
    "        y_test_binary[label], \n",
    "        y_pred_log_reg[label], \n",
    "        zero_division=0          # To avoid the warning for precision and F-score.\n",
    "    ))\n",
    "\n",
    "    # Confusion Matrix for Logistic Regression\n",
    "    cm_log_reg = confusion_matrix(y_test_binary[label], y_pred_log_reg[label])\n",
    "    plt.figure(figsize=(6, 4))\n",
    "    sns.heatmap(cm_log_reg, annot=True, fmt='d', cmap='Blues', cbar=False, \n",
    "                xticklabels=[\"Pred 0\", \"Pred 1\"], yticklabels=[\"True 0\", \"True 1\"])\n",
    "    plt.title(f\"Confusion Matrix for {label} - Logistic Regression\")\n",
    "    plt.ylabel('True Label')\n",
    "    plt.xlabel('Predicted Label')\n",
    "    plt.show()\n",
    "    \n",
    "    \n",
    "    \n",
    "\"\"\" --- PER FARE UN'UNICA STAMPA E NON LE SINGOLE COLONNE ---\n",
    "\n",
    "# Initialize the Logistic Regression model\n",
    "log_reg_model = LogisticRegression(max_iter=1000, random_state=42)\n",
    "\n",
    "# Train the Logistic Regression model\n",
    "log_reg_model.fit(X_train_tfidf, y_train_binary['Persistence'])  # Example for 'Persistence'\n",
    "\n",
    "# Make predictions\n",
    "y_pred_log_reg = log_reg_model.predict(X_test_tfidf)\n",
    "\n",
    "# Evaluation for Logistic Regression\n",
    "print(\"Classification Report for Logistic Regression:\")\n",
    "print(classification_report(y_test_binary['Persistence'], y_pred_log_reg, zero_division=0))\n",
    "\n",
    "# Confusion Matrix for Logistic Regression\n",
    "cm_log_reg = confusion_matrix(y_test_binary['Persistence'], y_pred_log_reg)\n",
    "plt.figure(figsize=(6, 4))\n",
    "sns.heatmap(cm_log_reg, annot=True, fmt='d', cmap='Blues', cbar=False, xticklabels=[\"Pred 0\", \"Pred 1\"], yticklabels=[\"True 0\", \"True 1\"])\n",
    "plt.title(\"Confusion Matrix for Logistic Regression\")\n",
    "plt.ylabel('True Label')\n",
    "plt.xlabel('Predicted Label')\n",
    "plt.show()\n",
    "\n",
    "\"\"\"\n"
   ]
  },
  {
   "cell_type": "markdown",
   "id": "ad356c0c-d335-4c1c-82c7-abbb844c1cbf",
   "metadata": {},
   "source": [
    "### Random Forest\n",
    "\n",
    "- text\n",
    "- text"
   ]
  },
  {
   "cell_type": "code",
   "execution_count": 20,
   "id": "1c578b07-30c3-4dda-875a-eb06631c28a2",
   "metadata": {},
   "outputs": [
    {
     "name": "stdout",
     "output_type": "stream",
     "text": [
      "Training for label: Defense Evasion\n",
      "Classification Report for Defense Evasion:\n",
      "\n",
      "              precision    recall  f1-score   support\n",
      "\n",
      "           0       1.00      1.00      1.00     64277\n",
      "           1       0.99      0.97      0.98      5634\n",
      "\n",
      "    accuracy                           1.00     69911\n",
      "   macro avg       1.00      0.98      0.99     69911\n",
      "weighted avg       1.00      1.00      1.00     69911\n",
      "\n"
     ]
    },
    {
     "data": {
      "image/png": "[encoded data removed]",
      "text/plain": [
       "<Figure size 432x288 with 1 Axes>"
      ]
     },
     "metadata": {
      "needs_background": "light"
     },
     "output_type": "display_data"
    },
    {
     "name": "stdout",
     "output_type": "stream",
     "text": [
      "Training for label: Discovery\n",
      "Classification Report for Discovery:\n",
      "\n",
      "              precision    recall  f1-score   support\n",
      "\n",
      "           0       0.94      0.95      0.94       252\n",
      "           1       1.00      1.00      1.00     69659\n",
      "\n",
      "    accuracy                           1.00     69911\n",
      "   macro avg       0.97      0.97      0.97     69911\n",
      "weighted avg       1.00      1.00      1.00     69911\n",
      "\n"
     ]
    },
    {
     "data": {
      "image/png": "[encoded data removed]",
      "text/plain": [
       "<Figure size 432x288 with 1 Axes>"
      ]
     },
     "metadata": {
      "needs_background": "light"
     },
     "output_type": "display_data"
    },
    {
     "name": "stdout",
     "output_type": "stream",
     "text": [
      "Training for label: Execution\n",
      "Classification Report for Execution:\n",
      "\n",
      "              precision    recall  f1-score   support\n",
      "\n",
      "           0       0.99      1.00      1.00     42194\n",
      "           1       1.00      0.99      0.99     27717\n",
      "\n",
      "    accuracy                           1.00     69911\n",
      "   macro avg       1.00      0.99      0.99     69911\n",
      "weighted avg       1.00      1.00      1.00     69911\n",
      "\n"
     ]
    },
    {
     "data": {
      "image/png": "[encoded data removed]",
      "text/plain": [
       "<Figure size 432x288 with 1 Axes>"
      ]
     },
     "metadata": {
      "needs_background": "light"
     },
     "output_type": "display_data"
    },
    {
     "name": "stdout",
     "output_type": "stream",
     "text": [
      "Training for label: Harmless\n",
      "Classification Report for Harmless:\n",
      "\n",
      "              precision    recall  f1-score   support\n",
      "\n",
      "           0       0.99      1.00      1.00     69241\n",
      "           1       0.92      0.16      0.27       670\n",
      "\n",
      "    accuracy                           0.99     69911\n",
      "   macro avg       0.95      0.58      0.63     69911\n",
      "weighted avg       0.99      0.99      0.99     69911\n",
      "\n"
     ]
    },
    {
     "data": {
      "image/png": "[encoded data removed]",
      "text/plain": [
       "<Figure size 432x288 with 1 Axes>"
      ]
     },
     "metadata": {
      "needs_background": "light"
     },
     "output_type": "display_data"
    },
    {
     "name": "stdout",
     "output_type": "stream",
     "text": [
      "Training for label: Impact\n",
      "Classification Report for Impact:\n",
      "\n",
      "              precision    recall  f1-score   support\n",
      "\n",
      "           0       1.00      1.00      1.00     69909\n",
      "           1       0.00      0.00      0.00         2\n",
      "\n",
      "    accuracy                           1.00     69911\n",
      "   macro avg       0.50      0.50      0.50     69911\n",
      "weighted avg       1.00      1.00      1.00     69911\n",
      "\n"
     ]
    },
    {
     "data": {
      "image/png": "[encoded data removed]",
      "text/plain": [
       "<Figure size 432x288 with 1 Axes>"
      ]
     },
     "metadata": {
      "needs_background": "light"
     },
     "output_type": "display_data"
    },
    {
     "name": "stdout",
     "output_type": "stream",
     "text": [
      "Training for label: Other\n",
      "Classification Report for Other:\n",
      "\n",
      "              precision    recall  f1-score   support\n",
      "\n",
      "           0       1.00      1.00      1.00     69808\n",
      "           1       1.00      0.95      0.98       103\n",
      "\n",
      "    accuracy                           1.00     69911\n",
      "   macro avg       1.00      0.98      0.99     69911\n",
      "weighted avg       1.00      1.00      1.00     69911\n",
      "\n"
     ]
    },
    {
     "data": {
      "image/png": "[encoded data removed]",
      "text/plain": [
       "<Figure size 432x288 with 1 Axes>"
      ]
     },
     "metadata": {
      "needs_background": "light"
     },
     "output_type": "display_data"
    },
    {
     "name": "stdout",
     "output_type": "stream",
     "text": [
      "Training for label: Persistence\n",
      "Classification Report for Persistence:\n",
      "\n",
      "              precision    recall  f1-score   support\n",
      "\n",
      "           0       1.00      0.99      1.00      6480\n",
      "           1       1.00      1.00      1.00     63431\n",
      "\n",
      "    accuracy                           1.00     69911\n",
      "   macro avg       1.00      1.00      1.00     69911\n",
      "weighted avg       1.00      1.00      1.00     69911\n",
      "\n"
     ]
    },
    {
     "data": {
      "image/png": "[encoded data removed]",
      "text/plain": [
       "<Figure size 432x288 with 1 Axes>"
      ]
     },
     "metadata": {
      "needs_background": "light"
     },
     "output_type": "display_data"
    }
   ],
   "source": [
    "# Initialize the Random Forest model\n",
    "rf_model = RandomForestClassifier(n_estimators=100, random_state=42)\n",
    "\n",
    "# Create an empty DataFrame to store predictions for multilabel compatibility\n",
    "y_pred_rf = pd.DataFrame(index=y_test_binary.index, columns=y_test_binary.columns)\n",
    "\n",
    "# Train and evaluate for each label\n",
    "for label in y_train_binary.columns:\n",
    "    print(f\"Training for label: {label}\")\n",
    "    \n",
    "    # Train the model\n",
    "    rf_model.fit(X_train_tfidf, y_train_binary[label])\n",
    "    \n",
    "    # Predict and store the results in the corresponding column\n",
    "    y_pred_rf[label] = rf_model.predict(X_test_tfidf)\n",
    "    \n",
    "    # Evaluate performance for the specific label\n",
    "    print(f\"Classification Report for {label}:\\n\")\n",
    "    print(classification_report(\n",
    "        y_test_binary[label], \n",
    "        y_pred_rf[label], \n",
    "        zero_division=0\n",
    "    ))\n",
    "\n",
    "    # Confusion Matrix for Random Forest\n",
    "    cm_rf = confusion_matrix(y_test_binary[label], y_pred_rf[label])\n",
    "    plt.figure(figsize=(6, 4))\n",
    "    sns.heatmap(cm_rf, annot=True, fmt='d', cmap='Blues', cbar=False, \n",
    "                xticklabels=[\"Pred 0\", \"Pred 1\"], yticklabels=[\"True 0\", \"True 1\"])\n",
    "    plt.title(f\"Confusion Matrix for {label} - Random Forest\")\n",
    "    plt.ylabel('True Label')\n",
    "    plt.xlabel('Predicted Label')\n",
    "    plt.show()"
   ]
  },
  {
   "cell_type": "markdown",
   "id": "ebc39fec",
   "metadata": {},
   "source": [
    "### Support Vector Machine (SVM)\n",
    "\n",
    "- text\n",
    "- text"
   ]
  },
  {
   "cell_type": "code",
   "execution_count": null,
   "id": "38b85d06",
   "metadata": {},
   "outputs": [
    {
     "name": "stdout",
     "output_type": "stream",
     "text": [
      "Training for label: Defense Evasion\n"
     ]
    }
   ],
   "source": [
    "# Initialize the SVM model\n",
    "svm_model = SVC(kernel='linear', random_state=42)\n",
    "\n",
    "# Create an empty DataFrame to store predictions for multilabel compatibility\n",
    "y_pred_svm = pd.DataFrame(index=y_test_binary.index, columns=y_test_binary.columns)\n",
    "\n",
    "# Train and evaluate for each label\n",
    "for label in y_train_binary.columns:\n",
    "    print(f\"Training for label: {label}\")\n",
    "    \n",
    "    # Train the model\n",
    "    svm_model.fit(X_train_tfidf, y_train_binary[label])\n",
    "    \n",
    "    # Predict and store the results in the corresponding column\n",
    "    y_pred_svm[label] = svm_model.predict(X_test_tfidf)\n",
    "    \n",
    "    # Evaluate performance for the specific label\n",
    "    print(f\"Classification Report for {label}:\\n\")\n",
    "    print(classification_report(\n",
    "        y_test_binary[label], \n",
    "        y_pred_svm[label], \n",
    "        zero_division=0\n",
    "    ))\n",
    "\n",
    "    # Confusion Matrix for SVM\n",
    "    cm_svm = confusion_matrix(y_test_binary[label], y_pred_svm[label])\n",
    "    plt.figure(figsize=(6, 4))\n",
    "    sns.heatmap(cm_svm, annot=True, fmt='d', cmap='Blues', cbar=False, \n",
    "                xticklabels=[\"Pred 0\", \"Pred 1\"], yticklabels=[\"True 0\", \"True 1\"])\n",
    "    plt.title(f\"Confusion Matrix for {label} - SVM\")\n",
    "    plt.ylabel('True Label')\n",
    "    plt.xlabel('Predicted Label')\n",
    "    plt.show()\n"
   ]
  },
  {
   "cell_type": "markdown",
   "id": "84725515",
   "metadata": {},
   "source": [
    "### Compare performance\n",
    "\n",
    "- text\n",
    "- text"
   ]
  },
  {
   "cell_type": "markdown",
   "id": "b2500760-e3a9-4739-954f-35e4f2fb6764",
   "metadata": {},
   "source": [
    "<center><b><font size=5>Hyperparameter Tuning<b><center>"
   ]
  },
  {
   "cell_type": "markdown",
   "id": "c24a9d10-df33-429a-8523-5be7931608d7",
   "metadata": {},
   "source": [
    "Fine-tune the hyperparameters of the ML models using cross-validation.\n",
    "\n",
    "\"Tune the hyper-parameters of the models through cross-validation. How do performance vary?\"\n",
    "\n",
    "**Steps:**\n",
    "\n",
    "TO BE CHECKED\n",
    "\n",
    "- Use GridSearchCV or RandomizedSearchCV to tune hyperparameters.\n",
    "- Evaluate the performance of the tuned models.\n",
    "- Compare the results with baseline performance."
   ]
  },
  {
   "cell_type": "markdown",
   "id": "c88594e9-1593-4ba0-9069-ce8269bbf2ff",
   "metadata": {},
   "source": [
    "### text\n",
    "\n",
    "- text\n",
    "- text"
   ]
  },
  {
   "cell_type": "code",
   "execution_count": null,
   "id": "697cef13-5bfd-4057-b38a-ad4db2f2adad",
   "metadata": {},
   "outputs": [],
   "source": []
  },
  {
   "cell_type": "markdown",
   "id": "b8d21086-d1a3-4e2c-b17a-695bd802138f",
   "metadata": {},
   "source": [
    "### text\n",
    "\n",
    "- text\n",
    "- text"
   ]
  },
  {
   "cell_type": "code",
   "execution_count": null,
   "id": "d4ef8f24-4f01-4d35-8e08-580ecbfa3da9",
   "metadata": {},
   "outputs": [],
   "source": []
  },
  {
   "cell_type": "markdown",
   "id": "1f0842cc-954a-4ed2-a068-1a8ec0ce86a1",
   "metadata": {},
   "source": [
    "### text\n",
    "\n",
    "- text\n",
    "- text"
   ]
  },
  {
   "cell_type": "code",
   "execution_count": null,
   "id": "a6344221-59e5-44f8-8d36-fdddb9c0ec3f",
   "metadata": {},
   "outputs": [],
   "source": []
  },
  {
   "cell_type": "markdown",
   "id": "6b8661d3-14d0-4356-8527-24be1fa36137",
   "metadata": {},
   "source": [
    "<center><b><font size=5>Result Analysis<b><center>"
   ]
  },
  {
   "cell_type": "markdown",
   "id": "17b4a80f-a649-4072-bc04-3d283adbe3ba",
   "metadata": {},
   "source": [
    "Analyze and summarize the results for each intent.\n",
    "\n",
    "\"Comments on the results for each on the intents.\"\n",
    "\n",
    "**Steps:**\n",
    "\n",
    "- Compare confusion matrices and classification reports.\n",
    "- Highlight trends and insights for each intent.\n",
    "- Summarize findings and discuss implications."
   ]
  },
  {
   "cell_type": "markdown",
   "id": "71c9e965-5c1c-4ad6-80c6-1e4b63337e08",
   "metadata": {},
   "source": [
    "### text\n",
    "\n",
    "- text\n",
    "- text"
   ]
  },
  {
   "cell_type": "code",
   "execution_count": null,
   "id": "e00aeaad-dbd8-4dc6-b1ec-9fc25d14b495",
   "metadata": {},
   "outputs": [],
   "source": []
  },
  {
   "cell_type": "markdown",
   "id": "3d5291bc-ca54-4c37-a91b-ffd74596fc16",
   "metadata": {},
   "source": [
    "### text\n",
    "\n",
    "- text\n",
    "- text"
   ]
  },
  {
   "cell_type": "code",
   "execution_count": null,
   "id": "12f8cb63-7bfa-4a5a-a44e-c84a35985ca0",
   "metadata": {},
   "outputs": [],
   "source": []
  },
  {
   "cell_type": "markdown",
   "id": "f70d6d8b-6428-428a-9cec-d60bd4c6d40d",
   "metadata": {},
   "source": [
    "### text\n",
    "\n",
    "- text\n",
    "- text"
   ]
  },
  {
   "cell_type": "code",
   "execution_count": null,
   "id": "9d98f55d-b20e-4c01-9822-70ebd5abb79a",
   "metadata": {},
   "outputs": [],
   "source": []
  },
  {
   "cell_type": "markdown",
   "id": "b473a968-648b-4847-98d6-1c95d0070609",
   "metadata": {},
   "source": [
    "<center><b><font size=5>Feature Experimentation<b><center>"
   ]
  },
  {
   "cell_type": "markdown",
   "id": "7a2933bf-2cd9-4ef5-a34e-bd1682911f57",
   "metadata": {},
   "source": [
    "Explore the impact of different features on model performance.\n",
    "\n",
    "\"Explore the possible features: try combining features differently, e.g., does tf-idf improve or worsen\n",
    "performance? Think about the problem and summarize the ways you have tried (even those that\n",
    "did not work).\"\n",
    "\n",
    "**Steps:**\n",
    "\n",
    "- Experiment with feature combinations (e.g., adding temporal features).\n",
    "- Observe performance changes with each combination.\n",
    "- Document successful and unsuccessful experiments."
   ]
  },
  {
   "cell_type": "markdown",
   "id": "280baddb-168d-4ad4-b2cf-1862de96e056",
   "metadata": {},
   "source": [
    "### text\n",
    "\n",
    "- text\n",
    "- text"
   ]
  },
  {
   "cell_type": "code",
   "execution_count": null,
   "id": "82963576-bf28-4a68-aaac-1ada30cff063",
   "metadata": {},
   "outputs": [],
   "source": []
  },
  {
   "cell_type": "markdown",
   "id": "1eda59b2-8d50-4088-add7-c38643d7a5b1",
   "metadata": {},
   "source": [
    "### text\n",
    "\n",
    "- text\n",
    "- text"
   ]
  },
  {
   "cell_type": "code",
   "execution_count": null,
   "id": "17a1a094-7762-4805-a6c9-d8955219ce6a",
   "metadata": {},
   "outputs": [],
   "source": []
  },
  {
   "cell_type": "markdown",
   "id": "1713a86b-62e6-4447-a20a-3e24bbf04a62",
   "metadata": {},
   "source": [
    "### text\n",
    "\n",
    "- text\n",
    "- text"
   ]
  },
  {
   "cell_type": "code",
   "execution_count": null,
   "id": "f0d7cbd5-5329-4631-8c21-45187f882ef4",
   "metadata": {},
   "outputs": [],
   "source": []
  }
 ],
 "metadata": {
  "kernelspec": {
   "display_name": "Python 3",
   "language": "python",
   "name": "python3"
  },
  "language_info": {
   "codemirror_mode": {
    "name": "ipython",
    "version": 3
   },
   "file_extension": ".py",
   "mimetype": "text/x-python",
   "name": "python",
   "nbconvert_exporter": "python",
   "pygments_lexer": "ipython3",
   "version": "3.6.5"
  }
 },
 "nbformat": 4,
 "nbformat_minor": 5
}
