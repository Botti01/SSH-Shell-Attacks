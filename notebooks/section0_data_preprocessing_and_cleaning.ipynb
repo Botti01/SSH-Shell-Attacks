{
 "cells": [
  {
   "cell_type": "code",
   "execution_count": null,
   "id": "04009a06-660c-45b0-acba-5273c3617e8c",
   "metadata": {},
   "outputs": [],
   "source": [
    "import pandas as pd\n",
    "import base64\n",
    "import re"
   ]
  },
  {
   "cell_type": "code",
   "execution_count": null,
   "id": "972fbf4c-e31b-43ee-8072-2e66b95e40e6",
   "metadata": {},
   "outputs": [],
   "source": [
    "# Function to decode a Base64-encoded string into plaintext\n",
    "def decode_base64(word):\n",
    "    try:\n",
    "        # Attempt to decode the Base64 string and return it\n",
    "        return base64.b64decode(word).decode()\n",
    "    except:\n",
    "        # Return None if decoding fails (e.g., invalid Base64 input)\n",
    "        pass"
   ]
  },
  {
   "cell_type": "code",
   "execution_count": null,
   "id": "bc624858-6c02-4b58-aade-966aaf07e671",
   "metadata": {},
   "outputs": [],
   "source": [
    "# Load a predefined vocabulary from \"features.txt\", one word/phrase per line\n",
    "with open(\"features.txt\", \"r\") as f:\n",
    "    vocabulary = f.read().splitlines()"
   ]
  },
  {
   "cell_type": "code",
   "execution_count": null,
   "id": "9d4168c8-3783-45ad-9fc3-8228205d8d6f",
   "metadata": {},
   "outputs": [],
   "source": [
    "# Function to split a given string into tokens based on the vocabulary\n",
    "def split_by_vocabulary(string):\n",
    "    # Create a regex pattern to match any word/phrase in the vocabulary\n",
    "    pattern = '|'.join(map(re.escape, vocabulary))\n",
    "    # Find all matches of the vocabulary in the string\n",
    "    matches = re.findall(pattern, string)\n",
    "    return matches"
   ]
  },
  {
   "cell_type": "code",
   "execution_count": null,
   "id": "c4aa13c4-4757-4aaa-98f9-619262d20b31",
   "metadata": {},
   "outputs": [],
   "source": [
    "# Function to process and decode Base64 commands from an SSH session log\n",
    "def decode_session(full_session):\n",
    "    new_full_session = []  # List to store processed session chunks\n",
    "    \n",
    "    # Split the session log into chunks using the semicolon (';') delimiter\n",
    "    for session_chunk in full_session.split(\";\"):\n",
    "        # Identify chunks that contain Base64 decoding commands\n",
    "        if \"base64 --decode\" in session_chunk and \"echo\" in session_chunk:\n",
    "            parts = session_chunk.split()  # Split the chunk into individual parts\n",
    "            base64_encoded = None  # Placeholder for the Base64-encoded string\n",
    "        \n",
    "            # Locate the Base64-encoded string following the 'echo' command\n",
    "            for i in range(len(parts)):\n",
    "                if parts[i] == \"echo\":\n",
    "                    base64_encoded = parts[i + 1].strip(\"\\\"\")  # Extract the string and strip quotes\n",
    "                    break\n",
    "            \n",
    "            # If a Base64 string was found, attempt to decode it\n",
    "            if base64_encoded:\n",
    "                decoded = decode_base64(base64_encoded)\n",
    "                if decoded:\n",
    "                    # Split the decoded output into lines\n",
    "                    words_decoded = decoded.split(\"\\n\")\n",
    "                    # Remove the shebang (e.g., \"#!/bin/bash\") if present in the first line\n",
    "                    if words_decoded[0].strip() == \"#!/bin/bash\":\n",
    "                        words_decoded[0] = \"\"\n",
    "                    # Add the decoded and cleaned output to the session list\n",
    "                    new_full_session.append(\"; \".join(list(filter(None, words_decoded))).strip())\n",
    "                    # Increment the global counter for successfully decoded chunks\n",
    "                    global base64_decoded_counter\n",
    "                    base64_decoded_counter += 1\n",
    "                else:\n",
    "                    # If decoding fails, keep the original chunk\n",
    "                    new_full_session.append(session_chunk.strip())\n",
    "            else:\n",
    "                # If no Base64 string is found, keep the original chunk\n",
    "                new_full_session.append(session_chunk.strip())\n",
    "        else:\n",
    "            # If the chunk does not contain Base64 decoding, keep it unchanged\n",
    "            new_full_session.append(session_chunk.strip())\n",
    "    \n",
    "    # Rejoin the processed session chunks with semicolons and return the result\n",
    "    return \"; \".join(new_full_session)\n"
   ]
  },
  {
   "cell_type": "code",
   "execution_count": null,
   "id": "03b94563-0f56-4d01-9026-3989ddb8af03",
   "metadata": {},
   "outputs": [],
   "source": [
    "# Load the raw dataset from a Parquet file\n",
    "df_original = pd.read_parquet('../data/raw/ssh_attacks.parquet')\n",
    "df_decoded = df_original.copy()  # Create a copy to preserve the original data"
   ]
  },
  {
   "cell_type": "code",
   "execution_count": null,
   "id": "b518760e-79e6-429f-9b80-8df254e1c78d",
   "metadata": {},
   "outputs": [],
   "source": [
    "# Convert the 'first_timestamp' column to a datetime format\n",
    "df_decoded['first_timestamp'] = pd.to_datetime(df_decoded['first_timestamp'])\n",
    "\n",
    "# Initialize a global counter to track the number of successfully decoded Base64 strings\n",
    "global base64_decoded_counter\n",
    "base64_decoded_counter = 0\n",
    "\n",
    "# Apply the session decoding function to the 'full_session' column\n",
    "df_decoded[\"full_session\"] = df_decoded[\"full_session\"].apply(lambda session: decode_session(session))\n",
    "\n",
    "# Save the decoded dataset to the specified processed folder\n",
    "df_decoded.to_parquet(\"../data/processed/ssh_attacks_decoded.parquet\")\n",
    "\n",
    "# Create another copy of the decoded dataset for further processing\n",
    "df_decoded_splitted = df_decoded.copy()\n",
    "\n",
    "# Split the decoded 'full_session' column into vocabulary-based tokens\n",
    "df_decoded_splitted[\"full_session\"] = df_decoded_splitted[\"full_session\"].apply(lambda session: split_by_vocabulary(session))\n",
    "\n",
    "# Save the tokenized dataset to the specified processed folder\n",
    "df_decoded_splitted.to_parquet(\"../data/processed/ssh_attacks_decoded_splitted.parquet\")\n",
    "\n",
    "print(f\"Number of Base64 decodes performed: {base64_decoded_counter}\")"
   ]
  }
 ],
 "metadata": {
  "kernelspec": {
   "display_name": "Python 3 (ipykernel)",
   "language": "python",
   "name": "python3"
  },
  "language_info": {
   "codemirror_mode": {
    "name": "ipython",
    "version": 3
   },
   "file_extension": ".py",
   "mimetype": "text/x-python",
   "name": "python",
   "nbconvert_exporter": "python",
   "pygments_lexer": "ipython3",
   "version": "3.7.12"
  }
 },
 "nbformat": 4,
 "nbformat_minor": 5
}
