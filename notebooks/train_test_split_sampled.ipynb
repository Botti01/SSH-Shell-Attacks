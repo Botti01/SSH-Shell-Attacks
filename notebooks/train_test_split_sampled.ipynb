{
 "cells": [
  {
   "cell_type": "code",
   "execution_count": 1,
   "id": "730df652-ba18-40c2-88a9-2e286a27290b",
   "metadata": {},
   "outputs": [],
   "source": [
    "import pandas as pd\n",
    "from sklearn.model_selection import train_test_split"
   ]
  },
  {
   "cell_type": "code",
   "execution_count": 4,
   "id": "6109361b-6a17-498d-bf17-e6f9be3feaa6",
   "metadata": {},
   "outputs": [],
   "source": [
    "def sampling(df):\n",
    "    label_counts = df[\"Set_Fingerprint\"].apply(lambda labels: frozenset(labels)).value_counts()\n",
    "    label_combinations_to_remove = label_counts[label_counts == 1].index\n",
    "    df = df[~df['Set_Fingerprint'].apply(lambda x: frozenset(x)).isin(label_combinations_to_remove)]\n",
    "\n",
    "    label_counts = df[\"Set_Fingerprint\"].apply(lambda labels: frozenset(labels)).value_counts()\n",
    "\n",
    "    label_counts_to_sample = label_counts[label_counts >= 2]\n",
    "    selected_rows = pd.DataFrame()\n",
    "    for label in label_counts_to_sample.index:\n",
    "        rows_with_labels = df[df[\"Set_Fingerprint\"].apply(lambda labels: frozenset(labels)).isin([label])]\n",
    "        num_rows_to_select = int(len(rows_with_labels) * 0.1)\n",
    "        if num_rows_to_select == 0 or num_rows_to_select == 1:\n",
    "            num_rows_to_select = 2\n",
    "        selected_rows = pd.concat([selected_rows, rows_with_labels.sample(n=num_rows_to_select)])\n",
    "    return selected_rows"
   ]
  },
  {
   "cell_type": "code",
   "execution_count": 3,
   "id": "ce87be4e-ee69-44b0-a4b8-6d0597ffdb1f",
   "metadata": {},
   "outputs": [],
   "source": [
    "def split_train_test(X, y, train_size, random_state):\n",
    "    y_str = y.apply(lambda x: ', '.join(sorted(x)))\n",
    "    X_train, X_test, y_train_str, y_test_str = train_test_split(X, y_str, train_size=train_size, stratify=y_str, random_state=random_state)\n",
    "    y_train = y_train_str.apply(lambda x: x.split(', '))\n",
    "    y_test = y_test_str.apply(lambda x: x.split(', '))\n",
    "\n",
    "    return X_train, X_test, y_train, y_test"
   ]
  }
 ],
 "metadata": {
  "kernelspec": {
   "display_name": "Python 3 (ipykernel)",
   "language": "python",
   "name": "python3"
  },
  "language_info": {
   "codemirror_mode": {
    "name": "ipython",
    "version": 3
   },
   "file_extension": ".py",
   "mimetype": "text/x-python",
   "name": "python",
   "nbconvert_exporter": "python",
   "pygments_lexer": "ipython3",
   "version": "3.7.12"
  }
 },
 "nbformat": 4,
 "nbformat_minor": 5
}
