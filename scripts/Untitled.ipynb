{
 "cells": [
  {
   "cell_type": "code",
   "execution_count": 3,
   "id": "05010352-829a-4028-b57b-095389b84403",
   "metadata": {},
   "outputs": [
    {
     "name": "stdout",
     "output_type": "stream",
     "text": [
      "Loading dataset...\n",
      "Original Dataset Size: (233035, 4)\n",
      "Sampling 10.0% of the dataset while maintaining class balance...\n",
      "Saving sampled dataset to ../data/ssh_attacks_sampled_decoded.parquet...\n",
      "Sampled Dataset Size: (23297, 4)\n",
      "Sampling complete!\n"
     ]
    }
   ],
   "source": [
    "import pandas as pd\n",
    "import numpy as np\n",
    "\n",
    "def sample_dataset(input_path, output_path, label_col, sample_fraction=0.1):\n",
    "    \"\"\"\n",
    "    Load a dataset, sample a subset while keeping class balance, and save it to a new file.\n",
    "\n",
    "    Args:\n",
    "        input_path (str): Path to the input dataset in .parquet format.\n",
    "        output_path (str): Path to save the sampled dataset in .parquet format.\n",
    "        label_col (str): Column name containing class labels.\n",
    "        sample_fraction (float): Fraction of the dataset to keep (default 10%).\n",
    "\n",
    "    Returns:\n",
    "        None: Displays sampling stats and saves the dataset.\n",
    "    \"\"\"\n",
    "    print(\"Loading dataset...\")\n",
    "    # Load the dataset\n",
    "    df = pd.read_parquet(input_path)\n",
    "    print(f\"Original Dataset Size: {df.shape}\")\n",
    "\n",
    "    # Ensure the label column exists\n",
    "    if label_col not in df.columns:\n",
    "        raise ValueError(f\"'{label_col}' not found in the dataset columns: {df.columns}\")\n",
    "\n",
    "    # Convert unhashable types in the label column to strings\n",
    "    df[label_col] = df[label_col].apply(lambda x: ','.join(map(str, x)) if isinstance(x, (list, np.ndarray)) else str(x))\n",
    "\n",
    "    # Perform class-balanced sampling\n",
    "    print(f\"Sampling {sample_fraction * 100}% of the dataset while maintaining class balance...\")\n",
    "    sampled_df = df.groupby(label_col, group_keys=False).apply(\n",
    "        lambda x: x.sample(frac=sample_fraction, random_state=42)\n",
    "    )\n",
    "\n",
    "    # Save the sampled dataset\n",
    "    print(f\"Saving sampled dataset to {output_path}...\")\n",
    "    sampled_df.to_parquet(output_path, index=False)\n",
    "\n",
    "    print(f\"Sampled Dataset Size: {sampled_df.shape}\")\n",
    "    print(\"Sampling complete!\")\n",
    "\n",
    "# If this script is called directly\n",
    "if __name__ == \"__main__\":\n",
    "    # Define file paths and parameters\n",
    "    INPUT_FILE = \"../data/processed/ssh_attacks_decoded.parquet\"  # Input dataset path\n",
    "    OUTPUT_FILE = \"../data/ssh_attacks_sampled_decoded.parquet\"  # Output sampled dataset path\n",
    "    LABEL_COLUMN = \"Set_Fingerprint\"  # Column containing the class labels\n",
    "    SAMPLE_FRACTION = 0.1  # Fraction of the dataset to sample (10%)\n",
    "\n",
    "    # Run the sampling process\n",
    "    sample_dataset(INPUT_FILE, OUTPUT_FILE, LABEL_COLUMN, SAMPLE_FRACTION)\n"
   ]
  }
 ],
 "metadata": {
  "kernelspec": {
   "display_name": "Python [conda env:root] *",
   "language": "python",
   "name": "conda-root-py"
  },
  "language_info": {
   "codemirror_mode": {
    "name": "ipython",
    "version": 3
   },
   "file_extension": ".py",
   "mimetype": "text/x-python",
   "name": "python",
   "nbconvert_exporter": "python",
   "pygments_lexer": "ipython3",
   "version": "3.7.12"
  }
 },
 "nbformat": 4,
 "nbformat_minor": 5
}
